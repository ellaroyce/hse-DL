{
 "cells": [
  {
   "cell_type": "markdown",
   "metadata": {},
   "source": [
    "# Salary prediction via Deep NLP methods\n",
    "A recent Kaggle competition (merely 5 years) propose you to find out who is the most well-paid professional\n",
    "\n",
    "We are gonna solve regression task.\n",
    "\n",
    "Competition is available here: https://www.kaggle.com/c/job-salary-prediction\n",
    "\n",
    "![Hobby](https://imgs.xkcd.com/comics/extrapolating.png)\n",
    "\n",
    "In this notebook you will learn\n",
    " - Data preprocessing for NLP or the most annoying part of data scientist's job\n",
    " - Convolutional Neural Networks for texts\n",
    " - Constructing you NN with scripting"
   ]
  },
  {
   "cell_type": "markdown",
   "metadata": {},
   "source": [
    "# Data\n",
    "\n",
    "Dataset is consists of job data. Most of it is an unstructured text. You should predict annual salary\n",
    "\n",
    "Download here: https://yadi.sk/d/vVEOWPFY3NruT7 or from competition\n",
    "\n",
    "You need to download Train_rev1.zip and unpack it\n",
    "## Main fields\n",
    "\n",
    "Title - A freetext field supplied to us by the job advertiser as the Title of the job ad.  Normally this is a summary of the job title or role.\n",
    "\n",
    "FullDescription - The full text of the job ad as provided by the job advertiser.  Where you see ***s, we have stripped values from the description in order to ensure that no salary information appears within the descriptions.  There may be some collateral damage here where we have also removed other numerics.\n",
    "\n",
    "LocationRaw - The freetext location as provided by the job advertiser.\n",
    "\n",
    "LocationNormalized - Adzuna's normalised location from within our own location tree, interpreted by us based on the raw location.  Our normaliser is not perfect!\n",
    "\n",
    "ContractType - full_time or part_time, interpreted by Adzuna from description or a specific additional field we received from the advertiser.\n",
    "\n",
    "ContractTime - permanent or contract, interpreted by Adzuna from description or a specific additional field we received from the advertiser.\n",
    "\n",
    "Company - the name of the employer as supplied to us by the job advertiser.\n",
    "\n",
    "Category - which of 30 standard job categories this ad fits into, inferred in a very messy way based on the source the ad came from.  We know there is a lot of noise and error in this field.\n",
    "\n",
    "## Desiered field\n",
    "SalaryRaw - the freetext salary field we received in the job advert from the advertiser.\n"
   ]
  },
  {
   "cell_type": "code",
   "execution_count": 1,
   "metadata": {
    "collapsed": true
   },
   "outputs": [],
   "source": [
    "import pandas as pd\n",
    "import numpy as np\n",
    "import tqdm\n",
    "import matplotlib.pyplot as plt\n",
    "%matplotlib inline"
   ]
  },
  {
   "cell_type": "code",
   "execution_count": 2,
   "metadata": {},
   "outputs": [
    {
     "data": {
      "text/html": [
       "<div>\n",
       "<style>\n",
       "    .dataframe thead tr:only-child th {\n",
       "        text-align: right;\n",
       "    }\n",
       "\n",
       "    .dataframe thead th {\n",
       "        text-align: left;\n",
       "    }\n",
       "\n",
       "    .dataframe tbody tr th {\n",
       "        vertical-align: top;\n",
       "    }\n",
       "</style>\n",
       "<table border=\"1\" class=\"dataframe\">\n",
       "  <thead>\n",
       "    <tr style=\"text-align: right;\">\n",
       "      <th></th>\n",
       "      <th>Id</th>\n",
       "      <th>Title</th>\n",
       "      <th>FullDescription</th>\n",
       "      <th>LocationRaw</th>\n",
       "      <th>LocationNormalized</th>\n",
       "      <th>ContractType</th>\n",
       "      <th>ContractTime</th>\n",
       "      <th>Company</th>\n",
       "      <th>Category</th>\n",
       "      <th>SalaryRaw</th>\n",
       "      <th>SalaryNormalized</th>\n",
       "      <th>SourceName</th>\n",
       "    </tr>\n",
       "  </thead>\n",
       "  <tbody>\n",
       "    <tr>\n",
       "      <th>0</th>\n",
       "      <td>12612628</td>\n",
       "      <td>Engineering Systems Analyst</td>\n",
       "      <td>Engineering Systems Analyst Dorking Surrey Sal...</td>\n",
       "      <td>Dorking, Surrey, Surrey</td>\n",
       "      <td>Dorking</td>\n",
       "      <td>NaN</td>\n",
       "      <td>permanent</td>\n",
       "      <td>Gregory Martin International</td>\n",
       "      <td>Engineering Jobs</td>\n",
       "      <td>20000 - 30000/annum 20-30K</td>\n",
       "      <td>25000</td>\n",
       "      <td>cv-library.co.uk</td>\n",
       "    </tr>\n",
       "    <tr>\n",
       "      <th>1</th>\n",
       "      <td>12612830</td>\n",
       "      <td>Stress Engineer Glasgow</td>\n",
       "      <td>Stress Engineer Glasgow Salary **** to **** We...</td>\n",
       "      <td>Glasgow, Scotland, Scotland</td>\n",
       "      <td>Glasgow</td>\n",
       "      <td>NaN</td>\n",
       "      <td>permanent</td>\n",
       "      <td>Gregory Martin International</td>\n",
       "      <td>Engineering Jobs</td>\n",
       "      <td>25000 - 35000/annum 25-35K</td>\n",
       "      <td>30000</td>\n",
       "      <td>cv-library.co.uk</td>\n",
       "    </tr>\n",
       "    <tr>\n",
       "      <th>2</th>\n",
       "      <td>12612844</td>\n",
       "      <td>Modelling and simulation analyst</td>\n",
       "      <td>Mathematical Modeller / Simulation Analyst / O...</td>\n",
       "      <td>Hampshire, South East, South East</td>\n",
       "      <td>Hampshire</td>\n",
       "      <td>NaN</td>\n",
       "      <td>permanent</td>\n",
       "      <td>Gregory Martin International</td>\n",
       "      <td>Engineering Jobs</td>\n",
       "      <td>20000 - 40000/annum 20-40K</td>\n",
       "      <td>30000</td>\n",
       "      <td>cv-library.co.uk</td>\n",
       "    </tr>\n",
       "    <tr>\n",
       "      <th>3</th>\n",
       "      <td>12613049</td>\n",
       "      <td>Engineering Systems Analyst / Mathematical Mod...</td>\n",
       "      <td>Engineering Systems Analyst / Mathematical Mod...</td>\n",
       "      <td>Surrey, South East, South East</td>\n",
       "      <td>Surrey</td>\n",
       "      <td>NaN</td>\n",
       "      <td>permanent</td>\n",
       "      <td>Gregory Martin International</td>\n",
       "      <td>Engineering Jobs</td>\n",
       "      <td>25000 - 30000/annum 25K-30K negotiable</td>\n",
       "      <td>27500</td>\n",
       "      <td>cv-library.co.uk</td>\n",
       "    </tr>\n",
       "    <tr>\n",
       "      <th>4</th>\n",
       "      <td>12613647</td>\n",
       "      <td>Pioneer, Miser Engineering Systems Analyst</td>\n",
       "      <td>Pioneer, Miser  Engineering Systems Analyst Do...</td>\n",
       "      <td>Surrey, South East, South East</td>\n",
       "      <td>Surrey</td>\n",
       "      <td>NaN</td>\n",
       "      <td>permanent</td>\n",
       "      <td>Gregory Martin International</td>\n",
       "      <td>Engineering Jobs</td>\n",
       "      <td>20000 - 30000/annum 20-30K</td>\n",
       "      <td>25000</td>\n",
       "      <td>cv-library.co.uk</td>\n",
       "    </tr>\n",
       "  </tbody>\n",
       "</table>\n",
       "</div>"
      ],
      "text/plain": [
       "         Id                                              Title  \\\n",
       "0  12612628                        Engineering Systems Analyst   \n",
       "1  12612830                            Stress Engineer Glasgow   \n",
       "2  12612844                   Modelling and simulation analyst   \n",
       "3  12613049  Engineering Systems Analyst / Mathematical Mod...   \n",
       "4  12613647         Pioneer, Miser Engineering Systems Analyst   \n",
       "\n",
       "                                     FullDescription  \\\n",
       "0  Engineering Systems Analyst Dorking Surrey Sal...   \n",
       "1  Stress Engineer Glasgow Salary **** to **** We...   \n",
       "2  Mathematical Modeller / Simulation Analyst / O...   \n",
       "3  Engineering Systems Analyst / Mathematical Mod...   \n",
       "4  Pioneer, Miser  Engineering Systems Analyst Do...   \n",
       "\n",
       "                         LocationRaw LocationNormalized ContractType  \\\n",
       "0            Dorking, Surrey, Surrey            Dorking          NaN   \n",
       "1        Glasgow, Scotland, Scotland            Glasgow          NaN   \n",
       "2  Hampshire, South East, South East          Hampshire          NaN   \n",
       "3     Surrey, South East, South East             Surrey          NaN   \n",
       "4     Surrey, South East, South East             Surrey          NaN   \n",
       "\n",
       "  ContractTime                       Company          Category  \\\n",
       "0    permanent  Gregory Martin International  Engineering Jobs   \n",
       "1    permanent  Gregory Martin International  Engineering Jobs   \n",
       "2    permanent  Gregory Martin International  Engineering Jobs   \n",
       "3    permanent  Gregory Martin International  Engineering Jobs   \n",
       "4    permanent  Gregory Martin International  Engineering Jobs   \n",
       "\n",
       "                                SalaryRaw  SalaryNormalized        SourceName  \n",
       "0              20000 - 30000/annum 20-30K             25000  cv-library.co.uk  \n",
       "1              25000 - 35000/annum 25-35K             30000  cv-library.co.uk  \n",
       "2              20000 - 40000/annum 20-40K             30000  cv-library.co.uk  \n",
       "3  25000 - 30000/annum 25K-30K negotiable             27500  cv-library.co.uk  \n",
       "4              20000 - 30000/annum 20-30K             25000  cv-library.co.uk  "
      ]
     },
     "execution_count": 2,
     "metadata": {},
     "output_type": "execute_result"
    }
   ],
   "source": [
    "X = pd.DataFrame.from_csv('Train_rev1.csv', index_col=None)\n",
    "X.head()"
   ]
  },
  {
   "cell_type": "code",
   "execution_count": 3,
   "metadata": {
    "collapsed": true
   },
   "outputs": [],
   "source": [
    "X.ContractType = X.ContractType.astype(str)\n",
    "X.ContractTime = X.ContractTime.astype(str)\n",
    "X.Company = X.Company.astype(str)"
   ]
  },
  {
   "cell_type": "code",
   "execution_count": 4,
   "metadata": {
    "collapsed": true
   },
   "outputs": [],
   "source": [
    "Y = X['SalaryNormalized'].copy()"
   ]
  },
  {
   "cell_type": "code",
   "execution_count": 5,
   "metadata": {
    "collapsed": true,
    "scrolled": true
   },
   "outputs": [],
   "source": [
    "del X['Id'],  X['SalaryRaw'], X['SourceName'], X['SalaryNormalized']"
   ]
  },
  {
   "cell_type": "code",
   "execution_count": 6,
   "metadata": {},
   "outputs": [
    {
     "data": {
      "image/png": "[encoded data removed]",
      "text/plain": [
       "<matplotlib.figure.Figure at 0x7f9f9d1bf7b8>"
      ]
     },
     "metadata": {},
     "output_type": "display_data"
    }
   ],
   "source": [
    "_ = plt.hist(Y, bins=30)"
   ]
  },
  {
   "cell_type": "markdown",
   "metadata": {},
   "source": [
    "# Preprocessing\n",
    "At this very stage we will distill valuable data out of the dataset\n",
    "\n",
    "First of all - let's remove rare tokens and finalaize our dictionary\n",
    "\n",
    "We count all tokens ever occurred in any of `text_columns`"
   ]
  },
  {
   "cell_type": "code",
   "execution_count": 7,
   "metadata": {},
   "outputs": [
    {
     "name": "stdout",
     "output_type": "stream",
     "text": [
      "['Title', 'FullDescription', 'LocationRaw', 'LocationNormalized', 'ContractType', 'ContractTime', 'Company', 'Category']\n"
     ]
    }
   ],
   "source": [
    "text_columns = list(X.columns)\n",
    "print(text_columns)\n",
    "categorial_colums = ['ContractType', 'ContractTime', 'Company', 'Category']"
   ]
  },
  {
   "cell_type": "markdown",
   "metadata": {},
   "source": [
    "Your code is below. \n",
    "\n",
    "Remember to apply .lower() to all strings before tokenization\n",
    "\n",
    "Consider using tqdm_notebook for not dying  during the iteration process"
   ]
  },
  {
   "cell_type": "code",
   "execution_count": 8,
   "metadata": {},
   "outputs": [
    {
     "name": "stdout",
     "output_type": "stream",
     "text": [
      "Title\n"
     ]
    }
   ],
   "source": [
    "from nltk.tokenize import RegexpTokenizer\n",
    "from collections import Counter,defaultdict\n",
    "tokenizer = RegexpTokenizer(r\"\\w+|\\d+\")\n",
    "\n",
    "#Dictionary of tokens\n",
    "token_counts = Counter()\n",
    "\n",
    "def tokenize(value):\n",
    "    \"\"\" Returns a list of string tokens\n",
    "    Arguments:\n",
    "    value -- string to tokenize\n",
    "    \"\"\"\n",
    "    return tokenizer.tokenize(value.lower())\n",
    "\n",
    "for i in text_columns:\n",
    "    for s in (X[i].values):\n",
    "        try:\n",
    "            token_counts.update(tokenize(s))\n",
    "        except:\n",
    "            print(i)\n",
    "\n",
    "# <YOUR CODE HERE>"
   ]
  },
  {
   "cell_type": "code",
   "execution_count": 9,
   "metadata": {},
   "outputs": [
    {
     "data": {
      "text/plain": [
       "[('and', 2663215)]"
      ]
     },
     "execution_count": 9,
     "metadata": {},
     "output_type": "execute_result"
    }
   ],
   "source": [
    "token_counts.most_common(1)"
   ]
  },
  {
   "cell_type": "code",
   "execution_count": 10,
   "metadata": {},
   "outputs": [
    {
     "data": {
      "text/plain": [
       "('and', 2663215)"
      ]
     },
     "execution_count": 10,
     "metadata": {},
     "output_type": "execute_result"
    }
   ],
   "source": [
    "token_counts.most_common(1)[0]"
   ]
  },
  {
   "cell_type": "code",
   "execution_count": 11,
   "metadata": {},
   "outputs": [
    {
     "data": {
      "text/plain": [
       "2663215"
      ]
     },
     "execution_count": 11,
     "metadata": {},
     "output_type": "execute_result"
    }
   ],
   "source": [
    "token_counts.most_common(1)[0][1]"
   ]
  },
  {
   "cell_type": "code",
   "execution_count": 12,
   "metadata": {},
   "outputs": [
    {
     "data": {
      "text/plain": [
       "205062"
      ]
     },
     "execution_count": 12,
     "metadata": {},
     "output_type": "execute_result"
    }
   ],
   "source": [
    "len(token_counts)"
   ]
  },
  {
   "cell_type": "code",
   "execution_count": 13,
   "metadata": {},
   "outputs": [
    {
     "name": "stdout",
     "output_type": "stream",
     "text": [
      "Correct!\n"
     ]
    }
   ],
   "source": [
    "assert token_counts.most_common(1)[0][1] in  range(2600000, 2700000)\n",
    "assert len(token_counts) in range(200000, 210000)\n",
    "print('Correct!')"
   ]
  },
  {
   "cell_type": "markdown",
   "metadata": {},
   "source": [
    "Now is the time to actually build token dict. We will use only words that occur more than `min_count` times in dataset\n",
    "\n",
    "Fill two dict mappings id->token and token->id\n",
    "\n",
    "**Minimum id is 2**, because 0 is reserved for padding and 1 is UNK"
   ]
  },
  {
   "cell_type": "code",
   "execution_count": 14,
   "metadata": {
    "collapsed": true
   },
   "outputs": [],
   "source": [
    "min_count = 10\n",
    "\n",
    "tokens = [w for w, c in token_counts.items() if c > min_count] "
   ]
  },
  {
   "cell_type": "code",
   "execution_count": 15,
   "metadata": {},
   "outputs": [
    {
     "name": "stdout",
     "output_type": "stream",
     "text": [
      "Correct!\n"
     ]
    }
   ],
   "source": [
    "assert type(tokens)==list\n",
    "assert len(tokens) in range(32000,34000)\n",
    "assert 'me' in tokens\n",
    "print(\"Correct!\")"
   ]
  },
  {
   "cell_type": "code",
   "execution_count": 16,
   "metadata": {
    "collapsed": true
   },
   "outputs": [],
   "source": [
    "dict_size = len(tokens)+2\n",
    "id_to_word = dict()\n",
    "word_to_id = dict()\n",
    "\n",
    "token_to_id = {t:i+2 for i,t in enumerate(tokens)}\n",
    "\n",
    "id_to_token = {i+2:t for i,t in enumerate(tokens)}"
   ]
  },
  {
   "cell_type": "code",
   "execution_count": 17,
   "metadata": {
    "collapsed": true
   },
   "outputs": [],
   "source": [
    "assert token_to_id['me'] != token_to_id['woods']\n",
    "assert token_to_id[id_to_token[42]]==42\n",
    "assert len(token_to_id)==len(tokens)\n",
    "assert 0 not in id_to_token"
   ]
  },
  {
   "cell_type": "code",
   "execution_count": 18,
   "metadata": {
    "collapsed": true
   },
   "outputs": [],
   "source": [
    "def vectorize(strings, token_to_id, UNK):\n",
    "    '''This function gets a string array and transforms it to padded token matrix\n",
    "    Remember to:\n",
    "     - Transform a string to list of tokens\n",
    "     - Transform each token to it ids (if not in the dict, replace with UNK)\n",
    "     - Pad each line to max_len'''\n",
    "    max_len = 0\n",
    "    token_matrix = []\n",
    "    \n",
    "    for i in range(len(strings)):\n",
    "        t=tokenize(strings[i])\n",
    "        max_len = max(max_len, len(t))\n",
    "        token_matrix.append([])\n",
    "        for k in t:\n",
    "            if k not in token_to_id:\n",
    "                token_matrix[i].append(UNK)\n",
    "            else:\n",
    "                token_matrix[i].append(token_to_id[k])\n",
    "    for i in range(len(token_matrix)):\n",
    "        while(len(token_matrix[i])<max_len):\n",
    "            token_matrix[i].append(0)\n",
    "            \n",
    "    \n",
    "#     <YOUR CODE HERE>\n",
    "    return np.array(token_matrix)"
   ]
  },
  {
   "cell_type": "code",
   "execution_count": 19,
   "metadata": {},
   "outputs": [
    {
     "name": "stdout",
     "output_type": "stream",
     "text": [
      "Correct!\n"
     ]
    }
   ],
   "source": [
    "test = vectorize([\"Hello, adshkjasdhkas\", \"data\"], token_to_id, 1)\n",
    "assert test.shape==(2,2)\n",
    "assert (test[:,1]==(1,0)).all()\n",
    "print(\"Correct!\")"
   ]
  },
  {
   "cell_type": "code",
   "execution_count": 20,
   "metadata": {
    "collapsed": true
   },
   "outputs": [],
   "source": [
    "from sklearn.model_selection import train_test_split\n",
    "X_train, X_val, Y_train, Y_val = train_test_split(X, Y, test_size = 1000)"
   ]
  },
  {
   "cell_type": "markdown",
   "metadata": {},
   "source": [
    "**If you successfully completed all tasks by this moment, you get (2 pts)**"
   ]
  },
  {
   "cell_type": "markdown",
   "metadata": {},
   "source": [
    "# True deep learning\n",
    "\n",
    "Now we will define our convolutional neural network.\n",
    "\n",
    "We will think about categorical fields as a sequential - but we won't apply CNN to them"
   ]
  },
  {
   "cell_type": "code",
   "execution_count": 21,
   "metadata": {
    "collapsed": true
   },
   "outputs": [],
   "source": [
    "import tensorflow as tf\n",
    "tf.reset_default_graph()"
   ]
  },
  {
   "cell_type": "markdown",
   "metadata": {},
   "source": [
    "Initialaize some placeholders for data\n",
    "\n",
    "What size it should  be?"
   ]
  },
  {
   "cell_type": "code",
   "execution_count": 22,
   "metadata": {
    "collapsed": true
   },
   "outputs": [],
   "source": [
    "placeholders = dict()\n",
    "for col in text_columns:\n",
    "    placeholders[col] = tf.placeholder(dtype=tf.int32,\n",
    "                                        shape=[None, None],\n",
    "                                        name=\"word_ids_%s\"%col)\n",
    "    \n",
    "true_y = tf.placeholder(dtype=tf.float32, shape = [None], name=\"true_y\")"
   ]
  },
  {
   "cell_type": "markdown",
   "metadata": {},
   "source": [
    "Embeddings are vector representations for tokens. Basically it is just a table where each token (represented by it's id) has a vector representing its sense.\n",
    "\n",
    "It will be learned simultaneously with other layers"
   ]
  },
  {
   "cell_type": "code",
   "execution_count": 23,
   "metadata": {
    "collapsed": true
   },
   "outputs": [],
   "source": [
    "embeddings_size = 128\n",
    "word_embeddings_matrix = tf.get_variable(name=\"word_embeddings_matrix\",\n",
    "                                         dtype=tf.float32,\n",
    "                                         initializer=tf.random_normal(\n",
    "                                             shape=[dict_size, embeddings_size], #<your_code_here>\n",
    "                                             stddev=0.05))"
   ]
  },
  {
   "cell_type": "code",
   "execution_count": null,
   "metadata": {
    "collapsed": true
   },
   "outputs": [],
   "source": []
  },
  {
   "cell_type": "markdown",
   "metadata": {},
   "source": [
    "## Deep nets\n",
    "Below we are gonna define some network architectures corresponding to each input (a column from a source data)\n",
    "\n",
    "`tf.layers.conv1d()` has three parameters. \n",
    " - inputs is a tensor with [batch_size, time, embedding_dimension]\n",
    " - filters is an int number which means number of channels on the output\n",
    " - kernel_size is an int number which means a size of input data which will be convoluted\n",
    "\n",
    "**Please, specify a padding='same'. This will prevent errors in case of low **\n",
    "`tf.layers.conv1d()` returns a tensor with dimension  [batch_size, time, filters]\n",
    "\n",
    "`tf.layers.max_pooling1d()` is prerry much the same. The only thing you need to specify - pool size and strides.\n",
    "\n",
    "For global pooling you can use `tf.reduce_max()`"
   ]
  },
  {
   "cell_type": "code",
   "execution_count": 24,
   "metadata": {
    "collapsed": true
   },
   "outputs": [],
   "source": [
    "filter_sizes = [3, 4, 5]\n",
    "num_filters = 128\n",
    "drop = 0.5\n",
    "sequence_length = max(len(w) for w in tokens)"
   ]
  },
  {
   "cell_type": "code",
   "execution_count": 25,
   "metadata": {
    "collapsed": true
   },
   "outputs": [],
   "source": [
    "# 3464.55935\n",
    "\n",
    "def dream_neural_net(word_ids, name):\n",
    "    \"\"\"Function takes an int32 matrix [batch_size, time] and returnes infered [batch_size, dense_vector] \n",
    "    matrix with a conv and pooling layers, finished by a global pooling\"\"\"\n",
    "    with tf.variable_scope(name_or_scope=\"conv_\" + name):\n",
    "        \n",
    "        output = tf.nn.embedding_lookup(params=word_embeddings_matrix,\n",
    "                                             ids=word_ids) #returns [batch_size, time, embedding_dimension]\n",
    "#         <YOUR CODE HERE>\n",
    "    \n",
    "    inputSize = int(output.get_shape()[-1])\n",
    "\n",
    "    output0 = tf.layers.conv1d(inputs=output, \n",
    "                              filters=sequence_length - filter_sizes[0] + 1, \n",
    "                              kernel_size=filter_sizes[0],  \n",
    "                              padding='same',\n",
    "                              activation=tf.nn.elu)\n",
    "    \n",
    "    output0 = tf.reduce_max(output0,axis=1)\n",
    "    \n",
    "    output1 = tf.layers.conv1d(inputs=output, \n",
    "                              filters=sequence_length - filter_sizes[1] + 1, \n",
    "                              kernel_size=filter_sizes[1],  \n",
    "                              padding='same',\n",
    "                              activation=tf.nn.elu)\n",
    "    \n",
    "    output1 = tf.reduce_max(output1,axis=1)\n",
    "    \n",
    "    output2 = tf.layers.conv1d(inputs=output, \n",
    "                              filters=sequence_length - filter_sizes[2] + 1, \n",
    "                              kernel_size=filter_sizes[2],  \n",
    "                              padding='same',\n",
    "                              activation=tf.nn.elu)\n",
    "    \n",
    "    output2 = tf.reduce_max(output2,axis=1)\n",
    "    \n",
    "    merged_tensor = tf.concat([output0, output1, output2],axis=1)\n",
    "    \n",
    "    output = merged_tensor\n",
    "    \n",
    "    dropout = tf.layers.dropout(merged_tensor, rate=drop)\n",
    "    \n",
    "    output = dropout\n",
    "\n",
    "#     output = tf.reduce_mean(output, axis=0)\n",
    "#     output = tf.layers.dense(output, units=128, activation=tf.nn.softmax)\n",
    "    \n",
    "    print(\"num \", output.shape)\n",
    "    return output"
   ]
  },
  {
   "cell_type": "code",
   "execution_count": 26,
   "metadata": {
    "collapsed": true
   },
   "outputs": [],
   "source": [
    "def dream_neural_net_categorial(word_ids, name):\n",
    "    \"\"\"Function takes an int32 matrix [batch_size, time] and returnes infered [batch_size, latent_dim] \n",
    "    matrix without a conv and pooling layers, only dense layers\"\"\"\n",
    "    output = tf.nn.embedding_lookup(params=word_embeddings_matrix,\n",
    "                                         ids=word_ids) #returns [batch_size, time, embedding_dimension]\n",
    "\n",
    "#     output = tf.layers.max_pooling1d(inputs=output, \n",
    "#                                      pool_size=sequence_length - filter_sizes[0] + 1, \n",
    "#                                      strides=1, \n",
    "#                                      padding='same')\n",
    "    output = tf.reduce_sum(output,axis=1)\n",
    "    print(\"cat \", output.shape)\n",
    "    return output"
   ]
  },
  {
   "cell_type": "markdown",
   "metadata": {},
   "source": [
    "Now it is time to combine all architectures. In a dict below you can match input type and an architecture"
   ]
  },
  {
   "cell_type": "code",
   "execution_count": 27,
   "metadata": {
    "collapsed": true
   },
   "outputs": [],
   "source": [
    "nets_types = {'FullDescription': dream_neural_net, \n",
    " 'LocationRaw': dream_neural_net, \n",
    " 'Title': dream_neural_net, \n",
    "              \n",
    " 'LocationNormalized': dream_neural_net_categorial,             \n",
    " 'ContractType': dream_neural_net_categorial, \n",
    " 'ContractTime': dream_neural_net_categorial, \n",
    " 'Company': dream_neural_net_categorial, \n",
    " 'Category':dream_neural_net_categorial\n",
    "}"
   ]
  },
  {
   "cell_type": "code",
   "execution_count": 28,
   "metadata": {},
   "outputs": [
    {
     "name": "stdout",
     "output_type": "stream",
     "text": [
      "num  (?, 225)\n",
      "num  (?, 225)\n",
      "num  (?, 225)\n",
      "cat  (?, 128)\n",
      "cat  (?, 128)\n",
      "cat  (?, 128)\n",
      "cat  (?, 128)\n",
      "cat  (?, 128)\n"
     ]
    }
   ],
   "source": [
    "#here we apply specified architecture for each input \n",
    "outputs_to_concat = [nets_types[name](word_ids, name) for name, word_ids in placeholders.items()] \n",
    "dense_repr = tf.concat(outputs_to_concat, axis=1)"
   ]
  },
  {
   "cell_type": "code",
   "execution_count": 29,
   "metadata": {},
   "outputs": [
    {
     "data": {
      "text/plain": [
       "TensorShape([Dimension(None), Dimension(1315)])"
      ]
     },
     "execution_count": 29,
     "metadata": {},
     "output_type": "execute_result"
    }
   ],
   "source": [
    "dense_repr.get_shape()"
   ]
  },
  {
   "cell_type": "code",
   "execution_count": 30,
   "metadata": {
    "collapsed": true
   },
   "outputs": [],
   "source": [
    "assert len(dense_repr.get_shape().as_list())==2"
   ]
  },
  {
   "cell_type": "code",
   "execution_count": 31,
   "metadata": {
    "collapsed": true
   },
   "outputs": [],
   "source": [
    "def reduce_to_number(dense_inputs):\n",
    "    \n",
    "    output = tf.layers.dense(dense_inputs, 50) \n",
    "    output = tf.contrib.layers.fully_connected(inputs=output,\n",
    "                                               num_outputs=1,\n",
    "                                               activation_fn=None,\n",
    "                                               weights_initializer=tf.contrib.layers.xavier_initializer(),\n",
    "                                               biases_initializer=tf.zeros_initializer(),\n",
    "                                               scope=\"dense_2\")\n",
    "    return output"
   ]
  },
  {
   "cell_type": "code",
   "execution_count": 32,
   "metadata": {
    "collapsed": true
   },
   "outputs": [],
   "source": [
    "net_output = reduce_to_number(dense_repr)\n",
    "predicted_y = tf.reshape(net_output, (-1, ))"
   ]
  },
  {
   "cell_type": "code",
   "execution_count": 33,
   "metadata": {},
   "outputs": [
    {
     "data": {
      "text/plain": [
       "[None, 1]"
      ]
     },
     "execution_count": 33,
     "metadata": {},
     "output_type": "execute_result"
    }
   ],
   "source": [
    "net_output.get_shape().as_list()"
   ]
  },
  {
   "cell_type": "code",
   "execution_count": 34,
   "metadata": {
    "collapsed": true
   },
   "outputs": [],
   "source": [
    "assert net_output.get_shape().as_list()==[None, 1]"
   ]
  },
  {
   "cell_type": "markdown",
   "metadata": {},
   "source": [
    "## Optimization\n",
    "Remember - we have a regression task, what would be the loss?\n",
    "\n",
    "Also we will estimate a target metric for a competition - **Mean absolute error**"
   ]
  },
  {
   "cell_type": "code",
   "execution_count": 35,
   "metadata": {
    "collapsed": true
   },
   "outputs": [],
   "source": [
    "loss = tf.reduce_mean((predicted_y - true_y)**2)\n",
    "\n",
    "# loss = tf.reduce_mean(tf.nn.softmax_cross_entropy_with_logits(logits, tf_train_labels) + 0.01 * \\\n",
    "#                       tf.nn.l2_loss(weights['h1']) + 0.01 * tf.nn.l2_loss(weights['out']))\n",
    "mean_abs_error = tf.reduce_mean(tf.abs(predicted_y - true_y))\n"
   ]
  },
  {
   "cell_type": "code",
   "execution_count": 36,
   "metadata": {
    "collapsed": true
   },
   "outputs": [],
   "source": [
    "#same, but more detailed:\n",
    "#updates = [[tf.gradients(loss,y_guess)[0], y_guess]]\n",
    "#optimizer = tf.train.MomentumOptimizer(0.01,0.9).apply_gradients(updates)"
   ]
  },
  {
   "cell_type": "code",
   "execution_count": 110,
   "metadata": {
    "collapsed": true
   },
   "outputs": [],
   "source": [
    "optimizer   = tf.train.AdamOptimizer(learning_rate=1e-1, beta1=0.9, beta2=0.999, epsilon=1e-08)\n",
    "global_step = tf.Variable(initial_value=0)\n",
    "train_op    = optimizer.minimize(loss=loss, global_step=global_step, var_list=tf.trainable_variables())"
   ]
  },
  {
   "cell_type": "markdown",
   "metadata": {},
   "source": [
    "## Training process\n",
    "\n",
    "The last thing before we can run the whole monster - define train process"
   ]
  },
  {
   "cell_type": "code",
   "execution_count": 111,
   "metadata": {
    "collapsed": true
   },
   "outputs": [],
   "source": [
    "sess = tf.InteractiveSession()\n",
    "sess.run(tf.global_variables_initializer())"
   ]
  },
  {
   "cell_type": "code",
   "execution_count": 112,
   "metadata": {
    "collapsed": true
   },
   "outputs": [],
   "source": [
    "batch_size = 512\n",
    "\n",
    "# nb_epoch = 150\n",
    "# batch_size = 64"
   ]
  },
  {
   "cell_type": "code",
   "execution_count": 113,
   "metadata": {
    "collapsed": true
   },
   "outputs": [],
   "source": [
    "def iterate_batches(X, Y=None):\n",
    "    \"\"\"Takes a part of pandas DF\n",
    "    Returns a pair (X_batch, Y_batch) or only X_batch, where \n",
    "     - X_batch is a dict {key: value} - where a key is name of column and a value is \n",
    "    a matrix which will be passed to corresponding input.\n",
    "     - Y_batch is just a vector with output values\n",
    "    \"\"\"\n",
    "    size = len(X)\n",
    "    i = 0\n",
    "    while i < len(X):\n",
    "#         <YOUR CODE HERE>\n",
    "        X_batch = X.iloc[i:i+batch_size]\n",
    "        X_batch = {col: vectorize(X_batch[col].values, token_to_id, 1) for col in text_columns}\n",
    "        \n",
    "        if Y is None:\n",
    "            yield X_batch \n",
    "        else:\n",
    "            Y_batch = Y.values[i:i+batch_size]\n",
    "            yield X_batch, Y_batch\n",
    "        i+=batch_size"
   ]
  },
  {
   "cell_type": "code",
   "execution_count": 114,
   "metadata": {
    "collapsed": true
   },
   "outputs": [],
   "source": [
    "def get_input(X_batch,Y_batch=None):\n",
    "    \"\"\"Function takes a batch from iterate_batches and returns a feed_dictionary with placeholders\"\"\"\n",
    "    feed_dct = {placeholders[k]: X_batch[k] for k in text_columns} \n",
    "    if Y_batch is not None:\n",
    "        feed_dct[true_y] = Y_batch\n",
    "    return feed_dct"
   ]
  },
  {
   "cell_type": "code",
   "execution_count": null,
   "metadata": {
    "collapsed": true
   },
   "outputs": [],
   "source": []
  },
  {
   "cell_type": "code",
   "execution_count": 115,
   "metadata": {
    "collapsed": true
   },
   "outputs": [],
   "source": [
    "def validate():\n",
    "    \"\"\"Here you go over X_val and Y_val and count mean errors.\n",
    "    Use iterate_batches and get_input\"\"\"\n",
    "    MSE, AE = 0, 0\n",
    "    batches = 0\n",
    "    for X_batch, Y_batch in iterate_batches(X_val, Y_val):\n",
    "        mse, ae = sess.run([loss,mean_abs_error], get_input(X_batch, Y_batch))\n",
    "        MSE+=mse\n",
    "        AE += ae\n",
    "        batches+=1\n",
    "    MSE/=batches\n",
    "    AE/=batches\n",
    "    return (MSE, AE)"
   ]
  },
  {
   "cell_type": "code",
   "execution_count": 116,
   "metadata": {
    "collapsed": true
   },
   "outputs": [],
   "source": [
    "def predict(X):\n",
    "    \"Function inferes prediction by dict of inputs\"\n",
    "    return sess.run(predicted_y, get_input(X))"
   ]
  },
  {
   "cell_type": "code",
   "execution_count": 117,
   "metadata": {},
   "outputs": [
    {
     "data": {
      "text/plain": [
       "<generator object iterate_batches at 0x7f9ec6ee3830>"
      ]
     },
     "execution_count": 117,
     "metadata": {},
     "output_type": "execute_result"
    }
   ],
   "source": [
    "iterate_batches(X_train, Y_train)"
   ]
  },
  {
   "cell_type": "code",
   "execution_count": 118,
   "metadata": {},
   "outputs": [
    {
     "name": "stdout",
     "output_type": "stream",
     "text": [
      "Correct!\n"
     ]
    }
   ],
   "source": [
    "for first_batch in iterate_batches(X_train, Y_train):\n",
    "    break\n",
    "assert len(first_batch) == 2\n",
    "assert type(first_batch[0]) == dict\n",
    "assert first_batch[1].shape[0]==batch_size\n",
    "assert np.unique([inp.shape[0] for inp in first_batch[0].values()])==batch_size\n",
    "print(\"Correct!\")"
   ]
  },
  {
   "cell_type": "code",
   "execution_count": 119,
   "metadata": {},
   "outputs": [],
   "source": [
    "[MSE, AE] = validate()\n",
    "assert MSE < 1e10\n",
    "assert AE < 50000"
   ]
  },
  {
   "cell_type": "markdown",
   "metadata": {},
   "source": [
    "Define some hyper-params"
   ]
  },
  {
   "cell_type": "code",
   "execution_count": 120,
   "metadata": {
    "collapsed": true
   },
   "outputs": [],
   "source": [
    "total_batches = len(X_train)/batch_size\n",
    "num_epochs = 5"
   ]
  },
  {
   "cell_type": "markdown",
   "metadata": {},
   "source": [
    "## Train\n",
    "Finally it is time to run training\n",
    "\n",
    "First, shuffle the data\n",
    "\n",
    "\n",
    "By the way, if the trainig processes starts and you achive at least **20k** AE error on validation, you get additional **(3 pts)**"
   ]
  },
  {
   "cell_type": "code",
   "execution_count": 121,
   "metadata": {
    "collapsed": true
   },
   "outputs": [],
   "source": [
    "p = np.random.permutation(len(X_train))\n",
    "X_train = X_train.iloc[p]\n",
    "Y_train = Y_train.iloc[p]"
   ]
  },
  {
   "cell_type": "code",
   "execution_count": 122,
   "metadata": {
    "collapsed": true
   },
   "outputs": [],
   "source": [
    "# FLAGS = tf.flags.FLAGS\n",
    "# FLAGS._parse_flags()"
   ]
  },
  {
   "cell_type": "code",
   "execution_count": 123,
   "metadata": {
    "collapsed": true
   },
   "outputs": [],
   "source": [
    "# import os"
   ]
  },
  {
   "cell_type": "code",
   "execution_count": 124,
   "metadata": {
    "collapsed": true
   },
   "outputs": [],
   "source": [
    "# os.mkdir('summaries_dir/')  "
   ]
  },
  {
   "cell_type": "code",
   "execution_count": 125,
   "metadata": {
    "collapsed": true
   },
   "outputs": [],
   "source": [
    "# os.chdir('summaries_dir/')"
   ]
  },
  {
   "cell_type": "code",
   "execution_count": 126,
   "metadata": {
    "collapsed": true
   },
   "outputs": [],
   "source": [
    "# os.mkdir('train/')"
   ]
  },
  {
   "cell_type": "code",
   "execution_count": 127,
   "metadata": {
    "collapsed": true
   },
   "outputs": [],
   "source": [
    "# os.mkdir('test/')"
   ]
  },
  {
   "cell_type": "code",
   "execution_count": 128,
   "metadata": {
    "collapsed": true
   },
   "outputs": [],
   "source": [
    "# os.chdir('../')"
   ]
  },
  {
   "cell_type": "code",
   "execution_count": 129,
   "metadata": {
    "collapsed": true
   },
   "outputs": [],
   "source": [
    "# os.listdir()"
   ]
  },
  {
   "cell_type": "code",
   "execution_count": 130,
   "metadata": {
    "collapsed": true
   },
   "outputs": [],
   "source": [
    "# abs_summary  = tf.summary.scalar('abs_summary', abs_error)\n",
    "# loss_summary = tf.summary.scalar('loss_summary', loss)"
   ]
  },
  {
   "cell_type": "code",
   "execution_count": 131,
   "metadata": {
    "collapsed": true
   },
   "outputs": [],
   "source": [
    "# # Train Summaries\n",
    "# train_summary_op     = tf.summary.merge([loss_summary, abs_summary])\n",
    "# train_summary_dir    = os.path.join('summaries_dir/train/')\n",
    "# train_summary_writer = tf.summary.FileWriter(train_summary_dir, sess.graph)\n",
    "\n",
    "# # Dev summaries\n",
    "# test_summary_op      = tf.summary.merge([loss_summary, abs_summary])\n",
    "# test_summary_dir     = os.path.join('summaries_dir/test/')\n",
    "# test_summary_writer  = tf.summary.FileWriter(test_summary_dir, sess.graph)"
   ]
  },
  {
   "cell_type": "code",
   "execution_count": 132,
   "metadata": {
    "collapsed": true
   },
   "outputs": [],
   "source": [
    "# merged = tf.summary.merge_all()\n",
    "# train_writer = tf.summary.FileWriter(train_summary_dir, sess.graph)\n",
    "# test_writer  = tf.summary.FileWriter(test_summary_dir)"
   ]
  },
  {
   "cell_type": "code",
   "execution_count": 133,
   "metadata": {
    "collapsed": true
   },
   "outputs": [],
   "source": [
    "cur_loss = []\n",
    "cur_abs  = []"
   ]
  },
  {
   "cell_type": "code",
   "execution_count": 134,
   "metadata": {},
   "outputs": [
    {
     "name": "stdout",
     "output_type": "stream",
     "text": [
      "0\n",
      "Current step: 1. Current loss is 1.52116e+09. Absolute error is 34418.9\n",
      "Validation. MSE: 1392541952.0, AE: 32506.4736328\n",
      "Current step: 2. Current loss is 1.55796e+09. Absolute error is 34739.7\n",
      "Current step: 3. Current loss is 9.71358e+08. Absolute error is 26264.1\n",
      "Current step: 4. Current loss is 3.03068e+08. Absolute error is 12487.3\n",
      "Current step: 5. Current loss is 3.68544e+09. Absolute error is 58665.8\n",
      "Current step: 6. Current loss is 3.88619e+08. Absolute error is 17369.6\n",
      "Current step: 7. Current loss is 4.93621e+08. Absolute error is 15830.5\n",
      "Current step: 8. Current loss is 9.03917e+08. Absolute error is 25331.3\n",
      "Current step: 9. Current loss is 1.11163e+09. Absolute error is 29045.1\n",
      "Current step: 10. Current loss is 1.17482e+09. Absolute error is 29565.0\n",
      "Current step: 11. Current loss is 1.22855e+09. Absolute error is 30822.9\n",
      "Current step: 12. Current loss is 1.21368e+09. Absolute error is 29928.2\n",
      "Current step: 13. Current loss is 1.19165e+09. Absolute error is 29883.8\n",
      "Current step: 14. Current loss is 1.14122e+09. Absolute error is 28325.0\n",
      "Current step: 15. Current loss is 7.77621e+08. Absolute error is 22499.0\n",
      "Current step: 16. Current loss is 6.50881e+08. Absolute error is 18271.4\n",
      "Current step: 17. Current loss is 3.51235e+08. Absolute error is 13453.6\n",
      "Current step: 18. Current loss is 3.71552e+08. Absolute error is 16491.4\n",
      "Current step: 19. Current loss is 6.96488e+08. Absolute error is 23412.9\n",
      "Current step: 20. Current loss is 5.20948e+08. Absolute error is 20121.2\n",
      "Current step: 21. Current loss is 3.48565e+08. Absolute error is 14878.9\n",
      "Current step: 22. Current loss is 2.74992e+08. Absolute error is 12158.0\n",
      "Current step: 23. Current loss is 3.14786e+08. Absolute error is 11999.5\n",
      "Current step: 24. Current loss is 4.24586e+08. Absolute error is 14640.7\n",
      "Current step: 25. Current loss is 5.09682e+08. Absolute error is 15692.4\n",
      "Current step: 26. Current loss is 4.33749e+08. Absolute error is 14653.7\n",
      "Current step: 27. Current loss is 2.68382e+08. Absolute error is 11653.9\n",
      "Current step: 28. Current loss is 2.33155e+08. Absolute error is 12428.9\n",
      "Current step: 29. Current loss is 3.24157e+08. Absolute error is 15366.4\n",
      "Current step: 30. Current loss is 3.90727e+08. Absolute error is 17395.6\n",
      "Current step: 31. Current loss is 3.00556e+08. Absolute error is 14655.1\n",
      "Validation. MSE: 269707200.0, AE: 12169.8486328\n",
      "Current step: 32. Current loss is 2.27837e+08. Absolute error is 11821.2\n",
      "Current step: 33. Current loss is 2.95192e+08. Absolute error is 11342.3\n",
      "Current step: 34. Current loss is 2.8634e+08. Absolute error is 10941.7\n",
      "Current step: 35. Current loss is 3.17007e+08. Absolute error is 11432.3\n",
      "Current step: 36. Current loss is 3.06679e+08. Absolute error is 11295.5\n",
      "Current step: 37. Current loss is 2.57924e+08. Absolute error is 10840.0\n",
      "Current step: 38. Current loss is 1.75632e+08. Absolute error is 10293.9\n",
      "Current step: 39. Current loss is 2.41638e+08. Absolute error is 12466.4\n",
      "Current step: 40. Current loss is 2.37295e+08. Absolute error is 12561.2\n",
      "Current step: 41. Current loss is 2.15017e+08. Absolute error is 11854.7\n",
      "Current step: 42. Current loss is 2.17674e+08. Absolute error is 10346.7\n",
      "Current step: 43. Current loss is 1.85534e+08. Absolute error is 9578.99\n",
      "Current step: 44. Current loss is 2.39586e+08. Absolute error is 10185.6\n",
      "Current step: 45. Current loss is 1.78357e+08. Absolute error is 9227.56\n",
      "Current step: 46. Current loss is 2.31351e+08. Absolute error is 10196.5\n",
      "Current step: 47. Current loss is 1.76033e+08. Absolute error is 9462.06\n",
      "Current step: 48. Current loss is 1.6048e+08. Absolute error is 9556.54\n",
      "Current step: 49. Current loss is 2.06035e+08. Absolute error is 10621.3\n",
      "Current step: 50. Current loss is 2.01579e+08. Absolute error is 10577.8\n",
      "Current step: 51. Current loss is 1.82047e+08. Absolute error is 9302.14\n",
      "Current step: 52. Current loss is 2.04978e+08. Absolute error is 9847.26\n",
      "Current step: 53. Current loss is 1.72401e+08. Absolute error is 8925.3\n",
      "Current step: 54. Current loss is 1.86867e+08. Absolute error is 9092.18\n",
      "Current step: 55. Current loss is 1.42352e+08. Absolute error is 8372.36\n",
      "Current step: 56. Current loss is 1.41001e+08. Absolute error is 8323.93\n",
      "Current step: 57. Current loss is 1.69011e+08. Absolute error is 9040.21\n",
      "Current step: 58. Current loss is 1.63681e+08. Absolute error is 9352.61\n",
      "Current step: 59. Current loss is 1.56492e+08. Absolute error is 8943.47\n",
      "Current step: 60. Current loss is 1.4738e+08. Absolute error is 8334.64\n",
      "Current step: 61. Current loss is 1.45604e+08. Absolute error is 7981.77\n",
      "Validation. MSE: 179288208.0, AE: 8666.96435547\n",
      "Current step: 62. Current loss is 1.5613e+08. Absolute error is 8635.08\n",
      "Current step: 63. Current loss is 1.41829e+08. Absolute error is 8223.89\n",
      "Current step: 64. Current loss is 1.40842e+08. Absolute error is 8225.19\n",
      "Current step: 65. Current loss is 1.47533e+08. Absolute error is 8309.01\n",
      "Current step: 66. Current loss is 1.41176e+08. Absolute error is 8522.63\n",
      "Current step: 67. Current loss is 1.38458e+08. Absolute error is 8913.02\n",
      "Current step: 68. Current loss is 1.29979e+08. Absolute error is 8318.68\n",
      "Current step: 69. Current loss is 1.56156e+08. Absolute error is 8076.51\n",
      "Current step: 70. Current loss is 1.14798e+08. Absolute error is 7731.25\n",
      "Current step: 71. Current loss is 1.17353e+08. Absolute error is 7511.21\n",
      "Current step: 72. Current loss is 1.47345e+08. Absolute error is 7754.28\n",
      "Current step: 73. Current loss is 1.46536e+08. Absolute error is 8233.75\n",
      "Current step: 74. Current loss is 1.20337e+08. Absolute error is 7641.93\n",
      "Current step: 75. Current loss is 1.72974e+08. Absolute error is 8828.64\n",
      "Current step: 76. Current loss is 1.42692e+08. Absolute error is 8584.08\n",
      "Current step: 77. Current loss is 1.36056e+08. Absolute error is 7996.54\n",
      "Current step: 78. Current loss is 1.24389e+08. Absolute error is 7864.22\n",
      "Current step: 79. Current loss is 2.05949e+08. Absolute error is 8829.77\n",
      "Current step: 80. Current loss is 1.20431e+08. Absolute error is 8006.43\n",
      "Current step: 81. Current loss is 1.29739e+08. Absolute error is 8289.44\n",
      "Current step: 82. Current loss is 1.27309e+08. Absolute error is 8210.7\n",
      "Current step: 83. Current loss is 1.2905e+08. Absolute error is 8064.32\n",
      "Current step: 84. Current loss is 1.24215e+08. Absolute error is 7538.86\n",
      "Current step: 85. Current loss is 1.42897e+08. Absolute error is 8063.59\n",
      "Current step: 86. Current loss is 1.1292e+08. Absolute error is 7472.88\n",
      "Current step: 87. Current loss is 1.47455e+08. Absolute error is 8269.63\n",
      "Current step: 88. Current loss is 1.83827e+08. Absolute error is 9336.29\n",
      "Current step: 89. Current loss is 1.39058e+08. Absolute error is 9050.57\n",
      "Current step: 90. Current loss is 1.26521e+08. Absolute error is 8368.36\n",
      "Current step: 91. Current loss is 1.67598e+08. Absolute error is 8224.67\n",
      "Validation. MSE: 158965856.0, AE: 8002.50488281\n",
      "Current step: 92. Current loss is 1.40707e+08. Absolute error is 7593.38\n",
      "Current step: 93. Current loss is 1.35715e+08. Absolute error is 7954.76\n",
      "Current step: 94. Current loss is 1.32747e+08. Absolute error is 7539.43\n",
      "Current step: 95. Current loss is 1.48432e+08. Absolute error is 8686.97\n",
      "Current step: 96. Current loss is 1.15214e+08. Absolute error is 7843.46\n",
      "Current step: 97. Current loss is 1.0889e+08. Absolute error is 7803.58\n",
      "Current step: 98. Current loss is 1.14916e+08. Absolute error is 7487.4\n",
      "Current step: 99. Current loss is 1.25975e+08. Absolute error is 7324.04\n",
      "Current step: 100. Current loss is 1.36293e+08. Absolute error is 7785.32\n",
      "Current step: 101. Current loss is 1.31099e+08. Absolute error is 8009.54\n",
      "Current step: 102. Current loss is 1.562e+08. Absolute error is 8061.48\n",
      "Current step: 103. Current loss is 1.35749e+08. Absolute error is 8184.77\n",
      "Current step: 104. Current loss is 1.17011e+08. Absolute error is 7920.64\n",
      "Current step: 105. Current loss is 1.13988e+08. Absolute error is 7476.73\n",
      "Current step: 106. Current loss is 1.14317e+08. Absolute error is 7620.98\n",
      "Current step: 107. Current loss is 1.23815e+08. Absolute error is 7626.68\n",
      "Current step: 108. Current loss is 1.1376e+08. Absolute error is 7462.96\n",
      "Current step: 109. Current loss is 1.28032e+08. Absolute error is 7882.94\n",
      "Current step: 110. Current loss is 1.11773e+08. Absolute error is 7392.94\n"
     ]
    },
    {
     "name": "stdout",
     "output_type": "stream",
     "text": [
      "Current step: 111. Current loss is 1.35848e+08. Absolute error is 8345.68\n",
      "Current step: 112. Current loss is 1.10241e+08. Absolute error is 7596.75\n",
      "Current step: 113. Current loss is 1.1701e+08. Absolute error is 7663.2\n",
      "Current step: 114. Current loss is 1.18416e+08. Absolute error is 7373.56\n",
      "Current step: 115. Current loss is 1.52988e+08. Absolute error is 8228.61\n",
      "Current step: 116. Current loss is 1.21736e+08. Absolute error is 7855.73\n",
      "Current step: 117. Current loss is 1.19209e+08. Absolute error is 7947.72\n",
      "Current step: 118. Current loss is 1.16231e+08. Absolute error is 7752.48\n",
      "Current step: 119. Current loss is 1.16438e+08. Absolute error is 7346.72\n",
      "Current step: 120. Current loss is 1.35356e+08. Absolute error is 7564.21\n",
      "Current step: 121. Current loss is 1.07065e+08. Absolute error is 7192.79\n",
      "Validation. MSE: 141511360.0, AE: 7696.89526367\n",
      "Current step: 122. Current loss is 1.16729e+08. Absolute error is 7413.72\n",
      "Current step: 123. Current loss is 9.34492e+07. Absolute error is 7123.72\n",
      "Current step: 124. Current loss is 1.08426e+08. Absolute error is 7221.3\n",
      "Current step: 125. Current loss is 1.35841e+08. Absolute error is 7992.69\n",
      "Current step: 126. Current loss is 1.59367e+08. Absolute error is 7520.62\n",
      "Current step: 127. Current loss is 1.14768e+08. Absolute error is 7188.15\n",
      "Current step: 128. Current loss is 1.16441e+08. Absolute error is 7666.34\n",
      "Current step: 129. Current loss is 1.20884e+08. Absolute error is 7883.57\n",
      "Current step: 130. Current loss is 1.00422e+08. Absolute error is 7099.8\n",
      "Current step: 131. Current loss is 1.15714e+08. Absolute error is 7561.49\n",
      "Current step: 132. Current loss is 1.01309e+08. Absolute error is 7236.2\n",
      "Current step: 133. Current loss is 1.48025e+08. Absolute error is 8175.13\n",
      "Current step: 134. Current loss is 1.36063e+08. Absolute error is 8112.83\n",
      "Current step: 135. Current loss is 1.4472e+08. Absolute error is 7669.08\n",
      "Current step: 136. Current loss is 1.16925e+08. Absolute error is 7566.74\n",
      "Current step: 137. Current loss is 1.16426e+08. Absolute error is 7530.69\n",
      "Current step: 138. Current loss is 1.26799e+08. Absolute error is 7977.07\n",
      "Current step: 139. Current loss is 1.37469e+08. Absolute error is 7730.93\n",
      "Current step: 140. Current loss is 1.38292e+08. Absolute error is 7884.52\n",
      "Current step: 141. Current loss is 1.12572e+08. Absolute error is 7682.01\n",
      "Current step: 142. Current loss is 1.15739e+08. Absolute error is 7762.21\n",
      "Current step: 143. Current loss is 1.13987e+08. Absolute error is 7166.85\n",
      "Current step: 144. Current loss is 1.31007e+08. Absolute error is 7646.29\n",
      "Current step: 145. Current loss is 9.96466e+07. Absolute error is 6935.92\n",
      "Current step: 146. Current loss is 1.07306e+08. Absolute error is 7246.68\n",
      "Current step: 147. Current loss is 1.13354e+08. Absolute error is 7693.58\n",
      "Current step: 148. Current loss is 1.20708e+08. Absolute error is 8201.26\n",
      "Current step: 149. Current loss is 1.47388e+08. Absolute error is 7407.84\n",
      "Current step: 150. Current loss is 1.22963e+08. Absolute error is 7614.99\n",
      "Current step: 151. Current loss is 1.08119e+08. Absolute error is 7065.84\n",
      "Validation. MSE: 137479520.0, AE: 7678.18164062\n",
      "Current step: 152. Current loss is 9.35258e+07. Absolute error is 6864.08\n",
      "Current step: 153. Current loss is 1.16018e+08. Absolute error is 7199.47\n",
      "Current step: 154. Current loss is 1.11254e+08. Absolute error is 7305.64\n",
      "Current step: 155. Current loss is 1.03892e+08. Absolute error is 7119.66\n",
      "Current step: 156. Current loss is 1.01453e+08. Absolute error is 7232.24\n",
      "Current step: 157. Current loss is 9.59264e+07. Absolute error is 6761.07\n",
      "Current step: 158. Current loss is 1.55706e+08. Absolute error is 7498.37\n",
      "Current step: 159. Current loss is 1.20515e+08. Absolute error is 7474.96\n",
      "Current step: 160. Current loss is 1.48901e+08. Absolute error is 7326.17\n",
      "Current step: 161. Current loss is 1.16799e+08. Absolute error is 7834.29\n",
      "Current step: 162. Current loss is 8.88676e+07. Absolute error is 6942.29\n",
      "Current step: 163. Current loss is 8.83936e+07. Absolute error is 6782.1\n",
      "Current step: 164. Current loss is 1.54149e+08. Absolute error is 8350.11\n",
      "Current step: 165. Current loss is 1.0957e+08. Absolute error is 7428.08\n",
      "Current step: 166. Current loss is 1.11139e+08. Absolute error is 7473.85\n",
      "Current step: 167. Current loss is 1.32983e+08. Absolute error is 8351.93\n",
      "Current step: 168. Current loss is 1.25408e+08. Absolute error is 7633.67\n",
      "Current step: 169. Current loss is 1.20157e+08. Absolute error is 7322.2\n",
      "Current step: 170. Current loss is 1.34427e+08. Absolute error is 7789.71\n",
      "Current step: 171. Current loss is 9.44004e+07. Absolute error is 7306.74\n",
      "Current step: 172. Current loss is 1.09959e+08. Absolute error is 7558.41\n",
      "Current step: 173. Current loss is 9.75864e+07. Absolute error is 7134.9\n",
      "Current step: 174. Current loss is 1.1239e+08. Absolute error is 7440.67\n",
      "Current step: 175. Current loss is 1.1304e+08. Absolute error is 7174.47\n",
      "Current step: 176. Current loss is 1.05688e+08. Absolute error is 7146.68\n",
      "Current step: 177. Current loss is 1.01879e+08. Absolute error is 6992.09\n",
      "Current step: 178. Current loss is 1.77742e+08. Absolute error is 7900.58\n",
      "Current step: 179. Current loss is 9.67565e+07. Absolute error is 7127.98\n",
      "Current step: 180. Current loss is 1.3316e+08. Absolute error is 7712.04\n",
      "Current step: 181. Current loss is 9.56232e+07. Absolute error is 7087.23\n",
      "Validation. MSE: 135697032.0, AE: 7467.92382812\n",
      "Current step: 182. Current loss is 1.12829e+08. Absolute error is 7079.53\n",
      "Current step: 183. Current loss is 1.08309e+08. Absolute error is 7142.39\n",
      "Current step: 184. Current loss is 1.13895e+08. Absolute error is 7605.17\n",
      "Current step: 185. Current loss is 1.0922e+08. Absolute error is 7385.27\n",
      "Current step: 186. Current loss is 9.52882e+07. Absolute error is 7008.88\n",
      "Current step: 187. Current loss is 9.84734e+07. Absolute error is 6927.77\n",
      "Current step: 188. Current loss is 1.07785e+08. Absolute error is 7101.61\n",
      "Current step: 189. Current loss is 1.18916e+08. Absolute error is 7669.37\n",
      "Current step: 190. Current loss is 1.09064e+08. Absolute error is 7348.0\n",
      "Current step: 191. Current loss is 1.00316e+08. Absolute error is 6869.56\n",
      "Current step: 192. Current loss is 1.17341e+08. Absolute error is 6899.45\n",
      "Current step: 193. Current loss is 1.01148e+08. Absolute error is 6981.83\n",
      "Current step: 194. Current loss is 8.70969e+07. Absolute error is 6851.45\n",
      "Current step: 195. Current loss is 1.1386e+08. Absolute error is 7462.48\n",
      "Current step: 196. Current loss is 8.14591e+07. Absolute error is 6842.36\n",
      "Current step: 197. Current loss is 1.51832e+08. Absolute error is 7742.45\n",
      "Current step: 198. Current loss is 1.05562e+08. Absolute error is 6983.86\n",
      "Current step: 199. Current loss is 1.0578e+08. Absolute error is 7308.48\n",
      "Current step: 200. Current loss is 1.13683e+08. Absolute error is 7257.44\n",
      "Current step: 201. Current loss is 1.54365e+08. Absolute error is 8247.27\n",
      "Current step: 202. Current loss is 1.31366e+08. Absolute error is 7407.55\n",
      "Current step: 203. Current loss is 1.09707e+08. Absolute error is 7474.29\n",
      "Current step: 204. Current loss is 9.29428e+07. Absolute error is 6809.83\n",
      "Current step: 205. Current loss is 1.34152e+08. Absolute error is 7467.49\n",
      "Current step: 206. Current loss is 9.60519e+07. Absolute error is 6762.78\n",
      "Current step: 207. Current loss is 1.18422e+08. Absolute error is 7481.31\n",
      "Current step: 208. Current loss is 9.29169e+07. Absolute error is 6808.42\n",
      "Current step: 209. Current loss is 1.13978e+08. Absolute error is 7484.38\n",
      "Current step: 210. Current loss is 1.18132e+08. Absolute error is 7695.47\n",
      "Current step: 211. Current loss is 1.0104e+08. Absolute error is 6936.72\n",
      "Validation. MSE: 128889144.0, AE: 7307.34204102\n",
      "Current step: 212. Current loss is 1.53056e+08. Absolute error is 7477.47\n",
      "Current step: 213. Current loss is 1.51231e+08. Absolute error is 7588.7\n",
      "Current step: 214. Current loss is 1.09577e+08. Absolute error is 7623.45\n",
      "Current step: 215. Current loss is 1.10615e+08. Absolute error is 7105.8\n",
      "Current step: 216. Current loss is 1.24286e+08. Absolute error is 7578.87\n",
      "Current step: 217. Current loss is 1.01669e+08. Absolute error is 7179.18\n",
      "Current step: 218. Current loss is 9.7122e+07. Absolute error is 7067.9\n",
      "Current step: 219. Current loss is 1.14456e+08. Absolute error is 7326.76\n"
     ]
    },
    {
     "name": "stdout",
     "output_type": "stream",
     "text": [
      "Current step: 220. Current loss is 1.17135e+08. Absolute error is 7480.4\n",
      "Current step: 221. Current loss is 1.10335e+08. Absolute error is 7277.79\n",
      "Current step: 222. Current loss is 1.11219e+08. Absolute error is 7302.62\n",
      "Current step: 223. Current loss is 1.06146e+08. Absolute error is 7120.42\n",
      "Current step: 224. Current loss is 1.15323e+08. Absolute error is 7500.63\n",
      "Current step: 225. Current loss is 1.06145e+08. Absolute error is 7443.88\n",
      "Current step: 226. Current loss is 9.0483e+07. Absolute error is 6777.33\n",
      "Current step: 227. Current loss is 1.41113e+08. Absolute error is 7281.62\n",
      "Current step: 228. Current loss is 1.09033e+08. Absolute error is 7279.67\n",
      "Current step: 229. Current loss is 1.09252e+08. Absolute error is 7280.85\n",
      "Current step: 230. Current loss is 1.12842e+08. Absolute error is 7729.82\n",
      "Current step: 231. Current loss is 1.10812e+08. Absolute error is 7546.75\n",
      "Current step: 232. Current loss is 1.12402e+08. Absolute error is 7188.42\n",
      "Current step: 233. Current loss is 1.43484e+08. Absolute error is 7682.77\n",
      "Current step: 234. Current loss is 1.12535e+08. Absolute error is 7013.81\n",
      "Current step: 235. Current loss is 1.35242e+08. Absolute error is 7711.16\n",
      "Current step: 236. Current loss is 1.07205e+08. Absolute error is 7590.12\n",
      "Current step: 237. Current loss is 1.28486e+08. Absolute error is 7506.97\n",
      "Current step: 238. Current loss is 9.29602e+07. Absolute error is 6676.94\n",
      "Current step: 239. Current loss is 8.89756e+07. Absolute error is 6880.77\n",
      "Current step: 240. Current loss is 1.08958e+08. Absolute error is 7021.41\n",
      "Current step: 241. Current loss is 1.21544e+08. Absolute error is 7764.36\n",
      "Validation. MSE: 129823128.0, AE: 7623.2980957\n",
      "Current step: 242. Current loss is 1.03295e+08. Absolute error is 6755.94\n",
      "Current step: 243. Current loss is 1.15965e+08. Absolute error is 7393.92\n",
      "Current step: 244. Current loss is 8.95496e+07. Absolute error is 6679.18\n",
      "Current step: 245. Current loss is 1.94617e+08. Absolute error is 7930.43\n",
      "Current step: 246. Current loss is 1.18794e+08. Absolute error is 7882.8\n",
      "Current step: 247. Current loss is 8.9139e+07. Absolute error is 6969.26\n",
      "Current step: 248. Current loss is 8.64526e+07. Absolute error is 6553.21\n",
      "Current step: 249. Current loss is 1.05056e+08. Absolute error is 7101.38\n",
      "Current step: 250. Current loss is 9.95297e+07. Absolute error is 6752.58\n",
      "Current step: 251. Current loss is 1.05847e+08. Absolute error is 7052.39\n",
      "Current step: 252. Current loss is 1.50787e+08. Absolute error is 7949.52\n",
      "Current step: 253. Current loss is 9.29749e+07. Absolute error is 7018.5\n",
      "Current step: 254. Current loss is 1.13181e+08. Absolute error is 7504.17\n",
      "Current step: 255. Current loss is 9.15728e+07. Absolute error is 6662.19\n",
      "Current step: 256. Current loss is 9.90065e+07. Absolute error is 6906.24\n",
      "Current step: 257. Current loss is 9.46271e+07. Absolute error is 6773.47\n",
      "Current step: 258. Current loss is 1.12292e+08. Absolute error is 7460.15\n",
      "Current step: 259. Current loss is 1.38717e+08. Absolute error is 8105.01\n",
      "Current step: 260. Current loss is 1.10689e+08. Absolute error is 7215.2\n",
      "Current step: 261. Current loss is 1.16469e+08. Absolute error is 7360.01\n",
      "Current step: 262. Current loss is 1.50958e+08. Absolute error is 7217.12\n",
      "Current step: 263. Current loss is 1.06045e+08. Absolute error is 7305.7\n",
      "Current step: 264. Current loss is 9.64522e+07. Absolute error is 7193.42\n",
      "Current step: 265. Current loss is 1.03549e+08. Absolute error is 7390.05\n",
      "Current step: 266. Current loss is 9.42913e+07. Absolute error is 6639.94\n",
      "Current step: 267. Current loss is 9.71521e+07. Absolute error is 6903.15\n",
      "Current step: 268. Current loss is 1.31325e+08. Absolute error is 7394.18\n",
      "Current step: 269. Current loss is 1.01417e+08. Absolute error is 7103.12\n",
      "Current step: 270. Current loss is 1.05708e+08. Absolute error is 6939.65\n",
      "Current step: 271. Current loss is 1.20008e+08. Absolute error is 7572.98\n",
      "Validation. MSE: 125419680.0, AE: 7246.71362305\n",
      "Current step: 272. Current loss is 1.47332e+08. Absolute error is 7216.14\n",
      "Current step: 273. Current loss is 1.44559e+08. Absolute error is 7630.42\n",
      "Current step: 274. Current loss is 9.27857e+07. Absolute error is 6662.52\n",
      "Current step: 275. Current loss is 1.06931e+08. Absolute error is 7367.1\n",
      "Current step: 276. Current loss is 8.20088e+07. Absolute error is 6415.74\n",
      "Current step: 277. Current loss is 9.50389e+07. Absolute error is 6600.01\n",
      "Current step: 278. Current loss is 1.1087e+08. Absolute error is 7263.18\n",
      "Current step: 279. Current loss is 1.03001e+08. Absolute error is 6935.42\n",
      "Current step: 280. Current loss is 9.75587e+07. Absolute error is 6919.99\n",
      "Current step: 281. Current loss is 1.35487e+08. Absolute error is 7664.87\n",
      "Current step: 282. Current loss is 1.16977e+08. Absolute error is 7487.07\n",
      "Current step: 283. Current loss is 1.11127e+08. Absolute error is 7190.88\n",
      "Current step: 284. Current loss is 8.65057e+07. Absolute error is 6553.01\n",
      "Current step: 285. Current loss is 1.13358e+08. Absolute error is 7492.05\n",
      "Current step: 286. Current loss is 9.6636e+07. Absolute error is 7148.75\n",
      "Current step: 287. Current loss is 1.30306e+08. Absolute error is 8150.03\n",
      "Current step: 288. Current loss is 1.0283e+08. Absolute error is 7271.08\n",
      "Current step: 289. Current loss is 1.12709e+08. Absolute error is 7155.07\n",
      "Current step: 290. Current loss is 1.13793e+08. Absolute error is 7402.26\n",
      "Current step: 291. Current loss is 1.20034e+08. Absolute error is 8002.81\n",
      "Current step: 292. Current loss is 1.01831e+08. Absolute error is 6906.36\n",
      "Current step: 293. Current loss is 9.93036e+07. Absolute error is 6917.91\n",
      "Current step: 294. Current loss is 1.02294e+08. Absolute error is 6903.98\n",
      "Current step: 295. Current loss is 9.40798e+07. Absolute error is 6981.9\n",
      "Current step: 296. Current loss is 1.13678e+08. Absolute error is 7816.19\n",
      "Current step: 297. Current loss is 1.27934e+08. Absolute error is 7800.29\n",
      "Current step: 298. Current loss is 1.09965e+08. Absolute error is 7164.46\n",
      "Current step: 299. Current loss is 1.08495e+08. Absolute error is 7181.18\n",
      "Current step: 300. Current loss is 1.09281e+08. Absolute error is 7149.01\n",
      "Current step: 301. Current loss is 9.5227e+07. Absolute error is 6793.04\n",
      "Validation. MSE: 129368056.0, AE: 7580.56689453\n",
      "Current step: 302. Current loss is 1.23676e+08. Absolute error is 7396.46\n",
      "Current step: 303. Current loss is 8.6618e+07. Absolute error is 6746.89\n",
      "Current step: 304. Current loss is 1.13375e+08. Absolute error is 6951.29\n",
      "Current step: 305. Current loss is 9.46514e+07. Absolute error is 7134.73\n",
      "Current step: 306. Current loss is 1.10724e+08. Absolute error is 7039.92\n",
      "Current step: 307. Current loss is 8.91886e+07. Absolute error is 6582.69\n",
      "Current step: 308. Current loss is 1.15754e+08. Absolute error is 7316.79\n",
      "Current step: 309. Current loss is 1.18876e+08. Absolute error is 7375.34\n",
      "Current step: 310. Current loss is 9.38231e+07. Absolute error is 6706.95\n",
      "Current step: 311. Current loss is 1.10913e+08. Absolute error is 7012.33\n",
      "Current step: 312. Current loss is 1.03786e+08. Absolute error is 7496.78\n",
      "Current step: 313. Current loss is 1.09995e+08. Absolute error is 7429.1\n",
      "Current step: 314. Current loss is 1.15527e+08. Absolute error is 6938.55\n",
      "Current step: 315. Current loss is 1.05287e+08. Absolute error is 6753.65\n",
      "Current step: 316. Current loss is 1.21831e+08. Absolute error is 6963.93\n",
      "Current step: 317. Current loss is 9.64748e+07. Absolute error is 6962.14\n",
      "Current step: 318. Current loss is 1.03686e+08. Absolute error is 7324.98\n",
      "Current step: 319. Current loss is 1.32108e+08. Absolute error is 7647.8\n",
      "Current step: 320. Current loss is 1.03003e+08. Absolute error is 6995.78\n",
      "Current step: 321. Current loss is 1.60663e+08. Absolute error is 7860.3\n",
      "Current step: 322. Current loss is 1.0526e+08. Absolute error is 7232.22\n",
      "Current step: 323. Current loss is 1.6149e+08. Absolute error is 7858.47\n",
      "Current step: 324. Current loss is 9.25063e+07. Absolute error is 6660.33\n",
      "Current step: 325. Current loss is 1.07066e+08. Absolute error is 7205.4\n",
      "Current step: 326. Current loss is 1.11132e+08. Absolute error is 7312.69\n",
      "Current step: 327. Current loss is 9.03317e+07. Absolute error is 6767.95\n",
      "Current step: 328. Current loss is 8.76114e+07. Absolute error is 6834.31\n",
      "Current step: 329. Current loss is 1.47674e+08. Absolute error is 7859.5\n"
     ]
    },
    {
     "name": "stdout",
     "output_type": "stream",
     "text": [
      "Current step: 330. Current loss is 1.28707e+08. Absolute error is 7686.39\n",
      "Current step: 331. Current loss is 1.25087e+08. Absolute error is 7483.92\n",
      "Validation. MSE: 125226808.0, AE: 7179.33178711\n",
      "Current step: 332. Current loss is 1.5666e+08. Absolute error is 7459.97\n",
      "Current step: 333. Current loss is 1.5944e+08. Absolute error is 8221.49\n",
      "Current step: 334. Current loss is 1.53249e+08. Absolute error is 7347.29\n",
      "Current step: 335. Current loss is 1.42994e+08. Absolute error is 8622.03\n",
      "Current step: 336. Current loss is 1.13196e+08. Absolute error is 7998.35\n",
      "Current step: 337. Current loss is 1.39059e+08. Absolute error is 7327.19\n",
      "Current step: 338. Current loss is 1.14928e+08. Absolute error is 7504.83\n",
      "Current step: 339. Current loss is 1.29488e+08. Absolute error is 7765.7\n",
      "Current step: 340. Current loss is 1.16866e+08. Absolute error is 8152.06\n",
      "Current step: 341. Current loss is 8.13575e+07. Absolute error is 6681.03\n",
      "Current step: 342. Current loss is 1.09099e+08. Absolute error is 7332.83\n",
      "Current step: 343. Current loss is 1.06064e+08. Absolute error is 7120.4\n",
      "Current step: 344. Current loss is 1.00703e+08. Absolute error is 6958.27\n",
      "Current step: 345. Current loss is 9.82585e+07. Absolute error is 7401.5\n",
      "Current step: 346. Current loss is 1.05034e+08. Absolute error is 6999.85\n",
      "Current step: 347. Current loss is 8.69126e+07. Absolute error is 6442.78\n",
      "Current step: 348. Current loss is 9.78171e+07. Absolute error is 6895.78\n",
      "Current step: 349. Current loss is 1.02554e+08. Absolute error is 7075.28\n",
      "Current step: 350. Current loss is 8.57253e+07. Absolute error is 6831.1\n",
      "Current step: 351. Current loss is 1.10601e+08. Absolute error is 6954.76\n",
      "Current step: 352. Current loss is 7.2341e+07. Absolute error is 6126.83\n",
      "Current step: 353. Current loss is 1.02502e+08. Absolute error is 7078.63\n",
      "Current step: 354. Current loss is 8.71632e+07. Absolute error is 6646.31\n",
      "Current step: 355. Current loss is 7.69293e+07. Absolute error is 6295.16\n",
      "Current step: 356. Current loss is 9.55171e+07. Absolute error is 6494.66\n",
      "Current step: 357. Current loss is 7.4729e+07. Absolute error is 6237.31\n",
      "Current step: 358. Current loss is 8.57488e+07. Absolute error is 6754.19\n",
      "Current step: 359. Current loss is 8.34944e+07. Absolute error is 6536.45\n",
      "Current step: 360. Current loss is 8.74576e+07. Absolute error is 6464.35\n",
      "Current step: 361. Current loss is 1.24755e+08. Absolute error is 7209.28\n",
      "Validation. MSE: 124602644.0, AE: 7377.05761719\n",
      "Current step: 362. Current loss is 1.11402e+08. Absolute error is 7559.16\n",
      "Current step: 363. Current loss is 1.04826e+08. Absolute error is 7415.42\n",
      "Current step: 364. Current loss is 1.0456e+08. Absolute error is 6699.84\n",
      "Current step: 365. Current loss is 1.15188e+08. Absolute error is 7479.58\n",
      "Current step: 366. Current loss is 8.94528e+07. Absolute error is 6675.35\n",
      "Current step: 367. Current loss is 8.58401e+07. Absolute error is 6933.71\n",
      "Current step: 368. Current loss is 1.00595e+08. Absolute error is 7022.33\n",
      "Current step: 369. Current loss is 9.45732e+07. Absolute error is 6657.15\n",
      "Current step: 370. Current loss is 9.58141e+07. Absolute error is 6457.34\n",
      "Current step: 371. Current loss is 9.97521e+07. Absolute error is 6975.8\n",
      "Current step: 372. Current loss is 1.12882e+08. Absolute error is 7146.54\n",
      "Current step: 373. Current loss is 1.54393e+08. Absolute error is 7505.51\n",
      "Current step: 374. Current loss is 1.04883e+08. Absolute error is 7282.69\n",
      "Current step: 375. Current loss is 1.11957e+08. Absolute error is 7636.92\n",
      "Current step: 376. Current loss is 1.01894e+08. Absolute error is 7116.57\n",
      "Current step: 377. Current loss is 1.05769e+08. Absolute error is 7208.62\n",
      "Current step: 378. Current loss is 1.00514e+08. Absolute error is 7130.73\n",
      "Current step: 379. Current loss is 1.12892e+08. Absolute error is 7348.67\n",
      "Current step: 380. Current loss is 8.41698e+07. Absolute error is 6174.88\n",
      "Current step: 381. Current loss is 1.10042e+08. Absolute error is 7342.7\n",
      "Current step: 382. Current loss is 9.51861e+07. Absolute error is 7058.78\n",
      "Current step: 383. Current loss is 9.85919e+07. Absolute error is 6797.41\n",
      "Current step: 384. Current loss is 1.0226e+08. Absolute error is 6776.65\n",
      "Current step: 385. Current loss is 8.66617e+07. Absolute error is 6653.55\n",
      "Current step: 386. Current loss is 1.00851e+08. Absolute error is 7463.59\n",
      "Current step: 387. Current loss is 1.20313e+08. Absolute error is 7697.35\n",
      "Current step: 388. Current loss is 1.00337e+08. Absolute error is 6818.31\n",
      "Current step: 389. Current loss is 9.02478e+07. Absolute error is 6558.23\n",
      "Current step: 390. Current loss is 1.00264e+08. Absolute error is 6911.46\n",
      "Current step: 391. Current loss is 8.49883e+07. Absolute error is 6708.57\n",
      "Validation. MSE: 122633496.0, AE: 7408.77832031\n",
      "Current step: 392. Current loss is 8.13044e+07. Absolute error is 6149.4\n",
      "Current step: 393. Current loss is 9.02617e+07. Absolute error is 6677.77\n",
      "Current step: 394. Current loss is 1.05077e+08. Absolute error is 6834.76\n",
      "Current step: 395. Current loss is 1.14646e+08. Absolute error is 7138.38\n",
      "Current step: 396. Current loss is 9.24679e+07. Absolute error is 7047.84\n",
      "Current step: 397. Current loss is 9.1298e+07. Absolute error is 6979.52\n",
      "Current step: 398. Current loss is 1.16497e+08. Absolute error is 7020.7\n",
      "Current step: 399. Current loss is 1.11759e+08. Absolute error is 6990.54\n",
      "Current step: 400. Current loss is 1.10233e+08. Absolute error is 7044.0\n",
      "Current step: 401. Current loss is 9.08836e+07. Absolute error is 6938.07\n",
      "Current step: 402. Current loss is 9.36433e+07. Absolute error is 6608.98\n",
      "Current step: 403. Current loss is 1.00142e+08. Absolute error is 6786.45\n",
      "Current step: 404. Current loss is 1.30548e+08. Absolute error is 7428.41\n",
      "Current step: 405. Current loss is 1.00663e+08. Absolute error is 7165.93\n",
      "Current step: 406. Current loss is 1.19259e+08. Absolute error is 7391.12\n",
      "Current step: 407. Current loss is 1.00029e+08. Absolute error is 6736.92\n",
      "Current step: 408. Current loss is 1.41939e+08. Absolute error is 7469.31\n",
      "Current step: 409. Current loss is 8.9375e+07. Absolute error is 6540.11\n",
      "Current step: 410. Current loss is 8.72186e+07. Absolute error is 6818.71\n",
      "Current step: 411. Current loss is 1.06026e+08. Absolute error is 7435.61\n",
      "Current step: 412. Current loss is 9.35072e+07. Absolute error is 7013.16\n",
      "Current step: 413. Current loss is 8.27558e+07. Absolute error is 6494.89\n",
      "Current step: 414. Current loss is 8.90553e+07. Absolute error is 6609.65\n",
      "Current step: 415. Current loss is 8.85089e+07. Absolute error is 6791.22\n",
      "Current step: 416. Current loss is 1.05393e+08. Absolute error is 7322.67\n",
      "Current step: 417. Current loss is 1.03771e+08. Absolute error is 7248.51\n",
      "Current step: 418. Current loss is 1.6063e+08. Absolute error is 7414.93\n",
      "Current step: 419. Current loss is 9.1749e+07. Absolute error is 6726.68\n",
      "Current step: 420. Current loss is 1.11627e+08. Absolute error is 7663.49\n",
      "Current step: 421. Current loss is 1.04498e+08. Absolute error is 7201.17\n",
      "Validation. MSE: 119114260.0, AE: 7054.70410156\n",
      "Current step: 422. Current loss is 1.20802e+08. Absolute error is 7208.64\n",
      "Current step: 423. Current loss is 8.77152e+07. Absolute error is 6874.01\n",
      "Current step: 424. Current loss is 1.02699e+08. Absolute error is 6966.99\n",
      "Current step: 425. Current loss is 9.72234e+07. Absolute error is 6872.29\n",
      "Current step: 426. Current loss is 8.3516e+07. Absolute error is 6448.11\n",
      "Current step: 427. Current loss is 9.70018e+07. Absolute error is 6960.58\n",
      "Current step: 428. Current loss is 8.93761e+07. Absolute error is 6475.55\n",
      "Current step: 429. Current loss is 1.20328e+08. Absolute error is 7675.38\n",
      "Current step: 430. Current loss is 9.44128e+07. Absolute error is 6803.81\n",
      "Current step: 431. Current loss is 9.36567e+07. Absolute error is 6451.0\n",
      "Current step: 432. Current loss is 8.64413e+07. Absolute error is 6713.33\n",
      "Current step: 433. Current loss is 9.13534e+07. Absolute error is 6764.93\n",
      "Current step: 434. Current loss is 1.27637e+08. Absolute error is 7439.43\n",
      "Current step: 435. Current loss is 1.09942e+08. Absolute error is 7297.33\n",
      "Current step: 436. Current loss is 8.62901e+07. Absolute error is 6768.18\n",
      "Current step: 437. Current loss is 9.97206e+07. Absolute error is 6993.6\n",
      "Current step: 438. Current loss is 9.61118e+07. Absolute error is 6736.14\n"
     ]
    },
    {
     "name": "stdout",
     "output_type": "stream",
     "text": [
      "Current step: 439. Current loss is 9.63515e+07. Absolute error is 7160.17\n",
      "Current step: 440. Current loss is 9.40605e+07. Absolute error is 7109.53\n",
      "Current step: 441. Current loss is 8.61694e+07. Absolute error is 6718.89\n",
      "Current step: 442. Current loss is 1.07407e+08. Absolute error is 7176.87\n",
      "Current step: 443. Current loss is 1.12876e+08. Absolute error is 7329.6\n",
      "Current step: 444. Current loss is 8.08224e+07. Absolute error is 6572.39\n",
      "Current step: 445. Current loss is 1.04772e+08. Absolute error is 7346.22\n",
      "Current step: 446. Current loss is 1.01501e+08. Absolute error is 6873.51\n",
      "Current step: 447. Current loss is 9.75625e+07. Absolute error is 6655.59\n",
      "Current step: 448. Current loss is 9.01684e+07. Absolute error is 6863.91\n",
      "Current step: 449. Current loss is 8.60784e+07. Absolute error is 6885.18\n",
      "Current step: 450. Current loss is 7.62242e+07. Absolute error is 6304.97\n",
      "Current step: 451. Current loss is 1.00541e+08. Absolute error is 6962.66\n",
      "Validation. MSE: 123171724.0, AE: 7069.08837891\n",
      "Current step: 452. Current loss is 9.25293e+07. Absolute error is 6829.56\n",
      "Current step: 453. Current loss is 9.75382e+07. Absolute error is 6689.47\n",
      "Current step: 454. Current loss is 1.04292e+08. Absolute error is 7145.62\n",
      "Current step: 455. Current loss is 1.06773e+08. Absolute error is 6955.04\n",
      "Current step: 456. Current loss is 1.15034e+08. Absolute error is 7254.84\n",
      "Current step: 457. Current loss is 1.19029e+08. Absolute error is 7257.02\n",
      "Current step: 458. Current loss is 8.93219e+07. Absolute error is 6506.42\n",
      "Current step: 459. Current loss is 1.00969e+08. Absolute error is 7000.22\n",
      "Current step: 460. Current loss is 1.35225e+08. Absolute error is 7815.62\n"
     ]
    },
    {
     "ename": "AttributeError",
     "evalue": "'float' object has no attribute 'lower'",
     "output_type": "error",
     "traceback": [
      "\u001b[0;31m---------------------------------------------------------------------------\u001b[0m",
      "\u001b[0;31mAttributeError\u001b[0m                            Traceback (most recent call last)",
      "\u001b[0;32m<ipython-input-134-2de6ad31baaa>\u001b[0m in \u001b[0;36m<module>\u001b[0;34m()\u001b[0m\n\u001b[1;32m      1\u001b[0m \u001b[0;32mfor\u001b[0m \u001b[0mj\u001b[0m \u001b[0;32min\u001b[0m \u001b[0mrange\u001b[0m\u001b[0;34m(\u001b[0m\u001b[0mnum_epochs\u001b[0m\u001b[0;34m)\u001b[0m\u001b[0;34m:\u001b[0m\u001b[0;34m\u001b[0m\u001b[0m\n\u001b[1;32m      2\u001b[0m     \u001b[0mprint\u001b[0m\u001b[0;34m(\u001b[0m\u001b[0mj\u001b[0m\u001b[0;34m)\u001b[0m\u001b[0;34m\u001b[0m\u001b[0m\n\u001b[0;32m----> 3\u001b[0;31m     \u001b[0;32mfor\u001b[0m \u001b[0mi\u001b[0m\u001b[0;34m,\u001b[0m \u001b[0;34m(\u001b[0m\u001b[0mX_batch\u001b[0m\u001b[0;34m,\u001b[0m \u001b[0mY_batch\u001b[0m\u001b[0;34m)\u001b[0m \u001b[0;32min\u001b[0m  \u001b[0menumerate\u001b[0m\u001b[0;34m(\u001b[0m\u001b[0miterate_batches\u001b[0m\u001b[0;34m(\u001b[0m\u001b[0mX_train\u001b[0m\u001b[0;34m,\u001b[0m \u001b[0mY_train\u001b[0m\u001b[0;34m)\u001b[0m\u001b[0;34m)\u001b[0m\u001b[0;34m:\u001b[0m\u001b[0;34m\u001b[0m\u001b[0m\n\u001b[0m\u001b[1;32m      4\u001b[0m         \u001b[0m_\u001b[0m\u001b[0;34m,\u001b[0m \u001b[0mstep\u001b[0m\u001b[0;34m,\u001b[0m \u001b[0mcurrent_loss\u001b[0m\u001b[0;34m,\u001b[0m \u001b[0mabs_error\u001b[0m \u001b[0;34m=\u001b[0m \u001b[0msess\u001b[0m\u001b[0;34m.\u001b[0m\u001b[0mrun\u001b[0m\u001b[0;34m(\u001b[0m\u001b[0;34m[\u001b[0m\u001b[0mtrain_op\u001b[0m\u001b[0;34m,\u001b[0m \u001b[0mglobal_step\u001b[0m\u001b[0;34m,\u001b[0m \u001b[0mloss\u001b[0m\u001b[0;34m,\u001b[0m \u001b[0mmean_abs_error\u001b[0m\u001b[0;34m]\u001b[0m\u001b[0;34m,\u001b[0m \u001b[0mget_input\u001b[0m\u001b[0;34m(\u001b[0m\u001b[0mX_batch\u001b[0m\u001b[0;34m,\u001b[0m\u001b[0mY_batch\u001b[0m\u001b[0;34m)\u001b[0m\u001b[0;34m)\u001b[0m\u001b[0;34m\u001b[0m\u001b[0m\n\u001b[1;32m      5\u001b[0m         \u001b[0mcur_loss\u001b[0m\u001b[0;34m.\u001b[0m\u001b[0mappend\u001b[0m\u001b[0;34m(\u001b[0m\u001b[0mcurrent_loss\u001b[0m\u001b[0;34m)\u001b[0m\u001b[0;34m\u001b[0m\u001b[0m\n",
      "\u001b[0;32m<ipython-input-113-caaa30a8954a>\u001b[0m in \u001b[0;36miterate_batches\u001b[0;34m(X, Y)\u001b[0m\n\u001b[1;32m     11\u001b[0m \u001b[0;31m#         <YOUR CODE HERE>\u001b[0m\u001b[0;34m\u001b[0m\u001b[0;34m\u001b[0m\u001b[0m\n\u001b[1;32m     12\u001b[0m         \u001b[0mX_batch\u001b[0m \u001b[0;34m=\u001b[0m \u001b[0mX\u001b[0m\u001b[0;34m.\u001b[0m\u001b[0miloc\u001b[0m\u001b[0;34m[\u001b[0m\u001b[0mi\u001b[0m\u001b[0;34m:\u001b[0m\u001b[0mi\u001b[0m\u001b[0;34m+\u001b[0m\u001b[0mbatch_size\u001b[0m\u001b[0;34m]\u001b[0m\u001b[0;34m\u001b[0m\u001b[0m\n\u001b[0;32m---> 13\u001b[0;31m         \u001b[0mX_batch\u001b[0m \u001b[0;34m=\u001b[0m \u001b[0;34m{\u001b[0m\u001b[0mcol\u001b[0m\u001b[0;34m:\u001b[0m \u001b[0mvectorize\u001b[0m\u001b[0;34m(\u001b[0m\u001b[0mX_batch\u001b[0m\u001b[0;34m[\u001b[0m\u001b[0mcol\u001b[0m\u001b[0;34m]\u001b[0m\u001b[0;34m.\u001b[0m\u001b[0mvalues\u001b[0m\u001b[0;34m,\u001b[0m \u001b[0mtoken_to_id\u001b[0m\u001b[0;34m,\u001b[0m \u001b[0;36m1\u001b[0m\u001b[0;34m)\u001b[0m \u001b[0;32mfor\u001b[0m \u001b[0mcol\u001b[0m \u001b[0;32min\u001b[0m \u001b[0mtext_columns\u001b[0m\u001b[0;34m}\u001b[0m\u001b[0;34m\u001b[0m\u001b[0m\n\u001b[0m\u001b[1;32m     14\u001b[0m \u001b[0;34m\u001b[0m\u001b[0m\n\u001b[1;32m     15\u001b[0m         \u001b[0;32mif\u001b[0m \u001b[0mY\u001b[0m \u001b[0;32mis\u001b[0m \u001b[0;32mNone\u001b[0m\u001b[0;34m:\u001b[0m\u001b[0;34m\u001b[0m\u001b[0m\n",
      "\u001b[0;32m<ipython-input-113-caaa30a8954a>\u001b[0m in \u001b[0;36m<dictcomp>\u001b[0;34m(.0)\u001b[0m\n\u001b[1;32m     11\u001b[0m \u001b[0;31m#         <YOUR CODE HERE>\u001b[0m\u001b[0;34m\u001b[0m\u001b[0;34m\u001b[0m\u001b[0m\n\u001b[1;32m     12\u001b[0m         \u001b[0mX_batch\u001b[0m \u001b[0;34m=\u001b[0m \u001b[0mX\u001b[0m\u001b[0;34m.\u001b[0m\u001b[0miloc\u001b[0m\u001b[0;34m[\u001b[0m\u001b[0mi\u001b[0m\u001b[0;34m:\u001b[0m\u001b[0mi\u001b[0m\u001b[0;34m+\u001b[0m\u001b[0mbatch_size\u001b[0m\u001b[0;34m]\u001b[0m\u001b[0;34m\u001b[0m\u001b[0m\n\u001b[0;32m---> 13\u001b[0;31m         \u001b[0mX_batch\u001b[0m \u001b[0;34m=\u001b[0m \u001b[0;34m{\u001b[0m\u001b[0mcol\u001b[0m\u001b[0;34m:\u001b[0m \u001b[0mvectorize\u001b[0m\u001b[0;34m(\u001b[0m\u001b[0mX_batch\u001b[0m\u001b[0;34m[\u001b[0m\u001b[0mcol\u001b[0m\u001b[0;34m]\u001b[0m\u001b[0;34m.\u001b[0m\u001b[0mvalues\u001b[0m\u001b[0;34m,\u001b[0m \u001b[0mtoken_to_id\u001b[0m\u001b[0;34m,\u001b[0m \u001b[0;36m1\u001b[0m\u001b[0;34m)\u001b[0m \u001b[0;32mfor\u001b[0m \u001b[0mcol\u001b[0m \u001b[0;32min\u001b[0m \u001b[0mtext_columns\u001b[0m\u001b[0;34m}\u001b[0m\u001b[0;34m\u001b[0m\u001b[0m\n\u001b[0m\u001b[1;32m     14\u001b[0m \u001b[0;34m\u001b[0m\u001b[0m\n\u001b[1;32m     15\u001b[0m         \u001b[0;32mif\u001b[0m \u001b[0mY\u001b[0m \u001b[0;32mis\u001b[0m \u001b[0;32mNone\u001b[0m\u001b[0;34m:\u001b[0m\u001b[0;34m\u001b[0m\u001b[0m\n",
      "\u001b[0;32m<ipython-input-18-814550254da1>\u001b[0m in \u001b[0;36mvectorize\u001b[0;34m(strings, token_to_id, UNK)\u001b[0m\n\u001b[1;32m      9\u001b[0m \u001b[0;34m\u001b[0m\u001b[0m\n\u001b[1;32m     10\u001b[0m     \u001b[0;32mfor\u001b[0m \u001b[0mi\u001b[0m \u001b[0;32min\u001b[0m \u001b[0mrange\u001b[0m\u001b[0;34m(\u001b[0m\u001b[0mlen\u001b[0m\u001b[0;34m(\u001b[0m\u001b[0mstrings\u001b[0m\u001b[0;34m)\u001b[0m\u001b[0;34m)\u001b[0m\u001b[0;34m:\u001b[0m\u001b[0;34m\u001b[0m\u001b[0m\n\u001b[0;32m---> 11\u001b[0;31m         \u001b[0mt\u001b[0m\u001b[0;34m=\u001b[0m\u001b[0mtokenize\u001b[0m\u001b[0;34m(\u001b[0m\u001b[0mstrings\u001b[0m\u001b[0;34m[\u001b[0m\u001b[0mi\u001b[0m\u001b[0;34m]\u001b[0m\u001b[0;34m)\u001b[0m\u001b[0;34m\u001b[0m\u001b[0m\n\u001b[0m\u001b[1;32m     12\u001b[0m         \u001b[0mmax_len\u001b[0m \u001b[0;34m=\u001b[0m \u001b[0mmax\u001b[0m\u001b[0;34m(\u001b[0m\u001b[0mmax_len\u001b[0m\u001b[0;34m,\u001b[0m \u001b[0mlen\u001b[0m\u001b[0;34m(\u001b[0m\u001b[0mt\u001b[0m\u001b[0;34m)\u001b[0m\u001b[0;34m)\u001b[0m\u001b[0;34m\u001b[0m\u001b[0m\n\u001b[1;32m     13\u001b[0m         \u001b[0mtoken_matrix\u001b[0m\u001b[0;34m.\u001b[0m\u001b[0mappend\u001b[0m\u001b[0;34m(\u001b[0m\u001b[0;34m[\u001b[0m\u001b[0;34m]\u001b[0m\u001b[0;34m)\u001b[0m\u001b[0;34m\u001b[0m\u001b[0m\n",
      "\u001b[0;32m<ipython-input-8-e6b2a924c25f>\u001b[0m in \u001b[0;36mtokenize\u001b[0;34m(value)\u001b[0m\n\u001b[1;32m     11\u001b[0m     \u001b[0mvalue\u001b[0m \u001b[0;34m-\u001b[0m\u001b[0;34m-\u001b[0m \u001b[0mstring\u001b[0m \u001b[0mto\u001b[0m \u001b[0mtokenize\u001b[0m\u001b[0;34m\u001b[0m\u001b[0m\n\u001b[1;32m     12\u001b[0m     \"\"\"\n\u001b[0;32m---> 13\u001b[0;31m     \u001b[0;32mreturn\u001b[0m \u001b[0mtokenizer\u001b[0m\u001b[0;34m.\u001b[0m\u001b[0mtokenize\u001b[0m\u001b[0;34m(\u001b[0m\u001b[0mvalue\u001b[0m\u001b[0;34m.\u001b[0m\u001b[0mlower\u001b[0m\u001b[0;34m(\u001b[0m\u001b[0;34m)\u001b[0m\u001b[0;34m)\u001b[0m\u001b[0;34m\u001b[0m\u001b[0m\n\u001b[0m\u001b[1;32m     14\u001b[0m \u001b[0;34m\u001b[0m\u001b[0m\n\u001b[1;32m     15\u001b[0m \u001b[0;32mfor\u001b[0m \u001b[0mi\u001b[0m \u001b[0;32min\u001b[0m \u001b[0mtext_columns\u001b[0m\u001b[0;34m:\u001b[0m\u001b[0;34m\u001b[0m\u001b[0m\n",
      "\u001b[0;31mAttributeError\u001b[0m: 'float' object has no attribute 'lower'"
     ]
    }
   ],
   "source": [
    "for j in range(num_epochs):\n",
    "    print(j)\n",
    "    for i, (X_batch, Y_batch) in  enumerate(iterate_batches(X_train, Y_train)):\n",
    "        _, step, current_loss, abs_error = sess.run([train_op, global_step, loss, mean_abs_error], get_input(X_batch,Y_batch))\n",
    "        cur_loss.append(current_loss)\n",
    "        cur_abs.append(abs_error)\n",
    "#         train_summary_writer.add_summary(summaries, step)\n",
    "        print(\"Current step: %s. Current loss is %s. Absolute error is %s\" % (step, current_loss, abs_error))\n",
    "        if i % 30 == 0:\n",
    "            print(\"Validation. MSE: %s, AE: %s\" % validate())\n",
    "#         if np.abs(cur_abs[i-1] - cur_abs[i]) >= 1000:\n",
    "#             break"
   ]
  },
  {
   "cell_type": "code",
   "execution_count": 151,
   "metadata": {},
   "outputs": [
    {
     "data": {
      "image/png": "[encoded data removed]",
      "text/plain": [
       "<matplotlib.figure.Figure at 0x7f9e72fb30b8>"
      ]
     },
     "metadata": {},
     "output_type": "display_data"
    }
   ],
   "source": [
    "# x = np.linspace(0, np.size(cur_loss))\n",
    "plt.figure(figsize=[10, 8])\n",
    "plt.title(\"Mean squared loss vs step number\")\n",
    "plt.plot(cur_loss, 'red', linewidth=0.5)\n",
    "plt.xlabel(\"Step\")\n",
    "plt.ylabel(\"MAE\");"
   ]
  },
  {
   "cell_type": "code",
   "execution_count": 152,
   "metadata": {},
   "outputs": [
    {
     "data": {
      "image/png": "[encoded data removed]",
      "text/plain": [
       "<matplotlib.figure.Figure at 0x7f9e5823e780>"
      ]
     },
     "metadata": {},
     "output_type": "display_data"
    }
   ],
   "source": [
    "plt.figure(figsize=[10, 8])\n",
    "plt.title(\"Absolute loss vs step number\")\n",
    "plt.plot(cur_abs, 'blue', linewidth=0.5)\n",
    "plt.xlabel(\"Step\")\n",
    "plt.ylabel(\"MAE\");"
   ]
  },
  {
   "cell_type": "code",
   "execution_count": null,
   "metadata": {
    "collapsed": true
   },
   "outputs": [],
   "source": [
    "# !tensorboard --logdir=summaries_dir/train/"
   ]
  },
  {
   "cell_type": "code",
   "execution_count": null,
   "metadata": {
    "collapsed": true
   },
   "outputs": [],
   "source": []
  },
  {
   "cell_type": "code",
   "execution_count": 153,
   "metadata": {},
   "outputs": [
    {
     "name": "stdout",
     "output_type": "stream",
     "text": [
      "I earned 3 pts with 7001.95556641 absolute error!\n"
     ]
    }
   ],
   "source": [
    "MSE, AE = validate()\n",
    "assert AE < 20000\n",
    "print (\"I earned 3 pts with %s absolute error!\" % AE)"
   ]
  },
  {
   "cell_type": "markdown",
   "metadata": {
    "collapsed": true
   },
   "source": [
    "# Done\n",
    "     + **(1 pt)** Add visualisation of train and val loss. Try to use some smoothing to make plots more readable \n",
    "     + **(2 pt)** Try different CNN architectures. Vary kernel size, number of filters. Find out if there is some change to a training process.\n",
    "     + Try to use different architectures for different inputs. Maybe a smaller architecture would be fine for description field and more complex for a title.\n",
    "     + Find out the best **embedding size** value \n",
    "     + Add dropout, \n",
    "     - and some regularisation \n",
    " \n",
    " **(2++ pts) for all experimenting**"
   ]
  },
  {
   "cell_type": "markdown",
   "metadata": {},
   "source": [
    "So, according to experiments, there were established some values of variables that I cant explain easily.\n",
    "\n",
    "Firstly, I forked input and did convolutions and poolings, then merged and dropouted 50 percent. Works nice. \n",
    "\n",
    "Secondly, I tried to use some different stuff such average for short texts as title, but it was not any better in terms of stability of learning. \n",
    "\n",
    "Thirdly, I changed batch size, because it took ages to calculate anything. If I had stronge gpu so I cant did 500. Yet its only 300\n",
    "\n",
    "Fourthly, as for embedding size, It was found out empirically that the best one is 128"
   ]
  },
  {
   "cell_type": "code",
   "execution_count": null,
   "metadata": {
    "collapsed": true
   },
   "outputs": [],
   "source": []
  },
  {
   "cell_type": "code",
   "execution_count": null,
   "metadata": {
    "collapsed": true
   },
   "outputs": [],
   "source": []
  },
  {
   "cell_type": "code",
   "execution_count": null,
   "metadata": {
    "collapsed": true
   },
   "outputs": [],
   "source": []
  },
  {
   "cell_type": "code",
   "execution_count": null,
   "metadata": {
    "collapsed": true
   },
   "outputs": [],
   "source": []
  },
  {
   "cell_type": "code",
   "execution_count": null,
   "metadata": {
    "collapsed": true
   },
   "outputs": [],
   "source": []
  },
  {
   "cell_type": "code",
   "execution_count": null,
   "metadata": {
    "collapsed": true
   },
   "outputs": [],
   "source": []
  },
  {
   "cell_type": "markdown",
   "metadata": {},
   "source": [
    "# See in the next series\n",
    " - Recurrent neural networks\n",
    "  - Why everybody like them\n",
    "  - Why everybody hate them\n",
    " - Attention for text processing\n",
    "  - How to boost your NLP model performance by implementing recent DL paper"
   ]
  }
 ],
 "metadata": {
  "kernelspec": {
   "display_name": "Python 3",
   "language": "python",
   "name": "python3"
  },
  "language_info": {
   "codemirror_mode": {
    "name": "ipython",
    "version": 3
   },
   "file_extension": ".py",
   "mimetype": "text/x-python",
   "name": "python",
   "nbconvert_exporter": "python",
   "pygments_lexer": "ipython3",
   "version": "3.6.2"
  }
 },
 "nbformat": 4,
 "nbformat_minor": 2
}
